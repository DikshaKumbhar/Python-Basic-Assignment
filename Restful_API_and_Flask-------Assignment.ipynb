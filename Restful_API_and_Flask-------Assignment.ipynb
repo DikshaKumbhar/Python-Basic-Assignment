{
  "nbformat": 4,
  "nbformat_minor": 0,
  "metadata": {
    "colab": {
      "provenance": []
    },
    "kernelspec": {
      "name": "python3",
      "display_name": "Python 3"
    },
    "language_info": {
      "name": "python"
    }
  },
  "cells": [
    {
      "cell_type": "markdown",
      "source": [
        "**1. What is a RESTful API?**\n",
        "\n",
        "- A RESTful API (Representational State Transfer API) is a way of designing web services where:\n",
        "\n",
        "- Communication happens via HTTP.\n",
        "\n",
        "- Resources (data) are represented by URLs.\n",
        "\n",
        "- Uses HTTP methods (GET, POST, PUT, DELETE, etc.) to perform CRUD operations.\n",
        "\n",
        "- Responses are usually in JSON format.\n"
      ],
      "metadata": {
        "id": "3XFj7bfEMaYM"
      }
    },
    {
      "cell_type": "markdown",
      "source": [
        "**2. Explain the concept of API specification?**\n",
        "\n",
        " An API specification is a blueprint that defines:\n",
        "\n",
        "- The available endpoints (URLs)\n",
        "\n",
        "- The methods allowed (GET, POST, etc.)\n",
        "\n",
        "- Request & response formats\n",
        "\n",
        "- Error codes\n",
        "\n",
        "  Example: OpenAPI/Swagger specification.\n"
      ],
      "metadata": {
        "id": "pDM962mgMqz1"
      }
    },
    {
      "cell_type": "markdown",
      "source": [
        "**3.  What is Flask, and why is it popular for building APIs?**\n",
        "\n",
        "Flask is a lightweight Python microframework for web development.\n",
        "\n",
        "- Popular because:\n",
        "\n",
        "  - Very simple and beginner-friendly.\n",
        "\n",
        "  - Supports quick prototyping.\n",
        "\n",
        "  - Has many extensions like Flask-SQLAlchemy, Flask-RESTful.\n",
        "\n",
        "  - Flexible — doesn’t enforce a specific project structure.\n"
      ],
      "metadata": {
        "id": "nQL89yPxMxFL"
      }
    },
    {
      "cell_type": "markdown",
      "source": [
        "**4. What is routing in Flask?**\n",
        "\n",
        "Routing maps a URL path to a specific function (view) in Flask.\n"
      ],
      "metadata": {
        "id": "BfXEmI9_MzdI"
      }
    },
    {
      "cell_type": "markdown",
      "source": [
        "**5. How do you create a simple Flask application?**\n",
        "\n",
        "- Import Flask – from flask import Flask\n",
        "\n",
        "- Create app object – app = Flask(__name__)\n",
        "\n",
        "- Define a route – Use @app.route('/') and write a function to return a response.\n",
        "\n",
        "- Run server – app.run(debug=True)"
      ],
      "metadata": {
        "id": "P3bGginhM2dE"
      }
    },
    {
      "cell_type": "markdown",
      "source": [
        "**6. What are HTTP methods used in RESTful APIs?**\n",
        "\n",
        "Methods:\n",
        "\n",
        "- GET – Retrieve data\n",
        "\n",
        "- POST – Create data\n",
        "\n",
        "- PUT – Update data (replace)\n",
        "\n",
        "- PATCH – Update partially\n",
        "\n",
        "- DELETE – Remove data\n",
        "\n",
        "\n"
      ],
      "metadata": {
        "id": "gVCKNEyCM4q5"
      }
    },
    {
      "cell_type": "markdown",
      "source": [
        "**7. What is the purpose of the @app.route() decorator in Flask?**\n",
        "\n",
        "- Decorator that tells Flask:\n",
        "\n",
        "  When someone visits this URL, run this function.\n"
      ],
      "metadata": {
        "id": "y3WNTPqcM7GA"
      }
    },
    {
      "cell_type": "markdown",
      "source": [
        "**8. What is the difference between GET and POST HTTP methods?**\n",
        "\n",
        "GET :\n",
        "\n",
        " → Fetch data from the server.\n",
        "\n",
        " → Sends parameters in the URL.\n",
        "\n",
        " → Less secure for sensitive data.\n",
        "\n",
        " → Usually does not change server state.\n",
        "\n",
        "POST :\n",
        "\n",
        " → Send/create data on the server.\n",
        "\n",
        " → Sends parameters in the request body.\n",
        "\n",
        " → More secure for sensitive data.\n",
        "\n",
        " → Can change server state.\n"
      ],
      "metadata": {
        "id": "h_NrmnvSM9cK"
      }
    },
    {
      "cell_type": "markdown",
      "source": [
        "**9. How do you handle errors in Flask APIs?**\n",
        "\n",
        "- Use abort() for HTTP errors.\n",
        "\n",
        "- Create custom error handlers with @app.errorhandler().\n",
        "\n"
      ],
      "metadata": {
        "id": "sBAObyACM_8M"
      }
    },
    {
      "cell_type": "markdown",
      "source": [
        "**10. How do you connect Flask to a SQL database?**\n",
        "\n",
        "- Install and use Flask-SQLAlchemy.\n",
        "\n",
        "- Configure DB URI and create a SQLAlchemy object.\n",
        "\n"
      ],
      "metadata": {
        "id": "YkG_WSf3NCII"
      }
    },
    {
      "cell_type": "markdown",
      "source": [
        "**11. What is the role of Flask-SQLAlchemy?**\n",
        "\n",
        "- ORM (Object Relational Mapper) for Flask.\n",
        "\n",
        "- Lets you interact with the database using Python classes instead of SQL queries."
      ],
      "metadata": {
        "id": "n9eda9DSNEQ4"
      }
    },
    {
      "cell_type": "markdown",
      "source": [
        "**12. What are Flask blueprints, and how are they useful?**\n",
        "\n",
        "- A way to organize large apps into separate modules.\n",
        "\n",
        "- Each blueprint handles routes for a specific feature."
      ],
      "metadata": {
        "id": "8bx2RrMwNGc_"
      }
    },
    {
      "cell_type": "markdown",
      "source": [
        "**13. What is the purpose of Flask's request object?**\n",
        "\n",
        "Gives access to HTTP request data (headers, form data, JSON body, files, etc.).\n",
        "\n"
      ],
      "metadata": {
        "id": "TN2qB9AGNIpV"
      }
    },
    {
      "cell_type": "markdown",
      "source": [
        "**14. How do you create a RESTful API endpoint using Flask?**\n",
        "\n",
        "- Import Flask and jsonify.\n",
        "\n",
        "- Define a route with @app.route('/endpoint', methods=['GET', 'POST', ...]).\n",
        "\n",
        "- Return data in JSON format.\n",
        "\n",
        "This creates a /api/items endpoint that returns JSON data when accessed via GET."
      ],
      "metadata": {
        "id": "pxwTVpeMNK7Z"
      }
    },
    {
      "cell_type": "markdown",
      "source": [
        "**15. What is the purpose of Flask's jsonify() function?**\n",
        "\n",
        "Converts Python dictionaries/lists into JSON responses with the correct Content-Type header.\n"
      ],
      "metadata": {
        "id": "idn9E9rfNM8S"
      }
    },
    {
      "cell_type": "markdown",
      "source": [
        "**16. Explain Flask’s url_for() function?**\n",
        "\n",
        "Generates URLs for a function dynamically."
      ],
      "metadata": {
        "id": "kV61KG3vNPUE"
      }
    },
    {
      "cell_type": "markdown",
      "source": [
        "**17. How does Flask handle static files (CSS, JavaScript, etc.)?**\n",
        "\n",
        "\n",
        "\n"
      ],
      "metadata": {
        "id": "9cajQdYzNROM"
      }
    },
    {
      "cell_type": "markdown",
      "source": [
        "**18. What is an API specification, and how does it help in building a Flask API?**\n",
        "\n",
        "- You can write API specs using tools like Swagger/OpenAPI so others know how to interact with your API.\n"
      ],
      "metadata": {
        "id": "xLYJCQtKNTFH"
      }
    },
    {
      "cell_type": "markdown",
      "source": [
        "**19. What are HTTP status codes, and why are they important in a Flask API?**\n",
        "\n",
        "Numbers indicating result of a request:\n",
        "\n",
        "- 200 – OK\n",
        "\n",
        "- 201 – Created\n",
        "\n",
        "- 400 – Bad request\n",
        "\n",
        "- 404 – Not found\n",
        "\n",
        "- 500 – Server error\n",
        "\n",
        "They are important for client-server communication.\n"
      ],
      "metadata": {
        "id": "bjmTYklWNVTU"
      }
    },
    {
      "cell_type": "markdown",
      "source": [
        "**20. How do you handle POST requests in Flask?**\n",
        "\n",
        "1. Set route with methods=['POST'].\n",
        "\n",
        "2. Use request.json or request.form to get data.\n",
        "\n",
        "3. Process data and return a response.\n",
        "\n",
        "This accepts JSON data in a POST request and returns a confirmation."
      ],
      "metadata": {
        "id": "R9dQJWeTNYSV"
      }
    },
    {
      "cell_type": "markdown",
      "source": [
        "**21. How would you secure a Flask API?**\n",
        "\n",
        "- Use Authentication (JWT, OAuth).\n",
        "\n",
        "- Validate & sanitize inputs.\n",
        "\n",
        "- Use HTTPS.\n",
        "\n",
        "- Rate limiting.\n"
      ],
      "metadata": {
        "id": "KE8M_MTYNaYf"
      }
    },
    {
      "cell_type": "markdown",
      "source": [
        "**22. What is the significance of the Flask-RESTful extension?**\n",
        "\n",
        "- An extension that simplifies creating REST APIs in Flask.\n",
        "\n",
        "- Provides Resource classes, request parsing, and easy routing.\n"
      ],
      "metadata": {
        "id": "XbHpFJMHNct5"
      }
    },
    {
      "cell_type": "markdown",
      "source": [
        "**23. What is the role of Flask’s session object?**\n",
        "\n",
        "- Stores data across multiple requests for a specific user.\n",
        "\n",
        "- Stored on client-side in a secure cookie.\n"
      ],
      "metadata": {
        "id": "l9TDggXnNezd"
      }
    }
  ]
}