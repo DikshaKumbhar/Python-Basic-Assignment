{
 "cells": [
  {
   "cell_type": "markdown",
   "id": "58d4ace4",
   "metadata": {},
   "source": [
    "# Practical Questions \n"
   ]
  },
  {
   "cell_type": "markdown",
   "id": "9ebb540b",
   "metadata": {},
   "source": [
    "### How do you create a basic Flask application?"
   ]
  },
  {
   "cell_type": "code",
   "execution_count": null,
   "id": "e01941cd",
   "metadata": {},
   "outputs": [],
   "source": [
    "from flask import Flask\n",
    "app = Flask(__name__)\n",
    "\n",
    "@app.route('/')\n",
    "def home():\n",
    "    return \"Hello Flask!\"\n",
    "\n",
    "if __name__ == \"__main__\":\n",
    "    app.run(debug=True)"
   ]
  },
  {
   "cell_type": "markdown",
   "id": "2e13aa3b",
   "metadata": {},
   "source": [
    "### ❓ How do you serve static files like images or CSS in Flask?"
   ]
  },
  {
   "cell_type": "code",
   "execution_count": null,
   "id": "e158d491",
   "metadata": {},
   "outputs": [],
   "source": [
    "# Place files in 'static/' folder.\n",
    "# Example usage inside HTML:\n",
    "# <link rel='stylesheet' href='{{ url_for('static', filename='style.css') }}'>"
   ]
  },
  {
   "cell_type": "markdown",
   "id": "d5d3f8d4",
   "metadata": {},
   "source": [
    "### ❓ How do you define different routes with different HTTP methods in Flask?"
   ]
  },
  {
   "cell_type": "code",
   "execution_count": null,
   "id": "dfa83ec0",
   "metadata": {},
   "outputs": [],
   "source": [
    "from flask import request\n",
    "@app.route('/submit', methods=['GET','POST'])\n",
    "def submit():\n",
    "    if request.method == 'POST':\n",
    "        return \"Form Submitted\"\n",
    "    return \"Submit Page\""
   ]
  },
  {
   "cell_type": "markdown",
   "id": "6115774b",
   "metadata": {},
   "source": [
    "### ❓ How do you render HTML templates in Flask?"
   ]
  },
  {
   "cell_type": "code",
   "execution_count": null,
   "id": "a78b6cf1",
   "metadata": {},
   "outputs": [],
   "source": [
    "from flask import render_template\n",
    "@app.route('/')\n",
    "def home():\n",
    "    return render_template('index.html')"
   ]
  },
  {
   "cell_type": "markdown",
   "id": "7187a0bb",
   "metadata": {},
   "source": [
    "### ❓ How can you generate URLs for routes in Flask using url_for?"
   ]
  },
  {
   "cell_type": "code",
   "execution_count": null,
   "id": "9b52830d",
   "metadata": {},
   "outputs": [],
   "source": [
    "from flask import url_for\n",
    "with app.test_request_context():\n",
    "    print(url_for('home'))"
   ]
  },
  {
   "cell_type": "markdown",
   "id": "9728c521",
   "metadata": {},
   "source": [
    "### ❓ How do you handle forms in Flask?"
   ]
  },
  {
   "cell_type": "code",
   "execution_count": null,
   "id": "5874fd4f",
   "metadata": {},
   "outputs": [],
   "source": [
    "from flask import request\n",
    "@app.route('/form', methods=['POST'])\n",
    "def form():\n",
    "    data = request.form['name']\n",
    "    return f\"You entered {data}\""
   ]
  },
  {
   "cell_type": "markdown",
   "id": "4bda0820",
   "metadata": {},
   "source": [
    "### ❓ How can you validate form data in Flask?"
   ]
  },
  {
   "cell_type": "code",
   "execution_count": null,
   "id": "ba5f0953",
   "metadata": {},
   "outputs": [],
   "source": [
    "email = request.form.get('email')\n",
    "if not email:\n",
    "    return \"Invalid Email\""
   ]
  },
  {
   "cell_type": "markdown",
   "id": "c456bc9b",
   "metadata": {},
   "source": [
    "### ❓ How do you manage sessions in Flask?"
   ]
  },
  {
   "cell_type": "code",
   "execution_count": null,
   "id": "a90b8424",
   "metadata": {},
   "outputs": [],
   "source": [
    "from flask import session\n",
    "app.secret_key = 'secret'\n",
    "@app.route('/set')\n",
    "def set_session():\n",
    "    session['user'] = 'Sneha'\n",
    "    return 'Session set'\n",
    "\n",
    "@app.route('/get')\n",
    "def get_session():\n",
    "    return session.get('user','Not set')"
   ]
  },
  {
   "cell_type": "markdown",
   "id": "929d642e",
   "metadata": {},
   "source": [
    "### ❓ How do you redirect to a different route in Flask?"
   ]
  },
  {
   "cell_type": "code",
   "execution_count": null,
   "id": "45610883",
   "metadata": {},
   "outputs": [],
   "source": [
    "from flask import redirect, url_for\n",
    "@app.route('/go')\n",
    "def go():\n",
    "    return redirect(url_for('home'))"
   ]
  },
  {
   "cell_type": "markdown",
   "id": "824681f4",
   "metadata": {},
   "source": [
    "### ❓ How do you handle errors in Flask (e.g., 404)?"
   ]
  },
  {
   "cell_type": "code",
   "execution_count": null,
   "id": "4fff858c",
   "metadata": {},
   "outputs": [],
   "source": [
    "@app.errorhandler(404)\n",
    "def not_found(e):\n",
    "    return \"Page not found\", 404"
   ]
  },
  {
   "cell_type": "markdown",
   "id": "1151adb3",
   "metadata": {},
   "source": [
    "### ❓ How do you structure a Flask app using Blueprints?"
   ]
  },
  {
   "cell_type": "code",
   "execution_count": null,
   "id": "426193a8",
   "metadata": {},
   "outputs": [],
   "source": [
    "from flask import Blueprint\n",
    "bp = Blueprint('bp', __name__)\n",
    "\n",
    "@bp.route('/hello')\n",
    "def hello():\n",
    "    return \"Hello from Blueprint\"\n",
    "\n",
    "app.register_blueprint(bp)"
   ]
  },
  {
   "cell_type": "markdown",
   "id": "63e5ae25",
   "metadata": {},
   "source": [
    "### ❓ How do you define a custom Jinja filter in Flask?"
   ]
  },
  {
   "cell_type": "code",
   "execution_count": null,
   "id": "1fd430ab",
   "metadata": {},
   "outputs": [],
   "source": [
    "@app.template_filter('reverse')\n",
    "def reverse_filter(s):\n",
    "    return s[::-1]"
   ]
  },
  {
   "cell_type": "markdown",
   "id": "e8cb16ed",
   "metadata": {},
   "source": [
    "### ❓ How can you redirect with query parameters in Flask?"
   ]
  },
  {
   "cell_type": "code",
   "execution_count": null,
   "id": "4aa2e023",
   "metadata": {},
   "outputs": [],
   "source": [
    "return redirect(url_for('home', name='Sneha'))"
   ]
  },
  {
   "cell_type": "markdown",
   "id": "184e764e",
   "metadata": {},
   "source": [
    "### ❓ How do you return JSON responses in Flask?"
   ]
  },
  {
   "cell_type": "code",
   "execution_count": null,
   "id": "24dbf71e",
   "metadata": {},
   "outputs": [],
   "source": [
    "from flask import jsonify\n",
    "@app.route('/json')\n",
    "def json_response():\n",
    "    return jsonify({'msg': 'Hello'})"
   ]
  },
  {
   "cell_type": "markdown",
   "id": "c6341783",
   "metadata": {},
   "source": [
    "### ❓ How do you capture URL parameters in Flask?"
   ]
  },
  {
   "cell_type": "code",
   "execution_count": null,
   "id": "7185fef2",
   "metadata": {},
   "outputs": [],
   "source": [
    "@app.route('/user/<name>')\n",
    "def user(name):\n",
    "    return f\"Hello {name}\""
   ]
  }
 ],
 "metadata": {
  "language_info": {
   "name": "python"
  }
 },
 "nbformat": 4,
 "nbformat_minor": 5
}
