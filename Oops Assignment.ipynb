{
 "cells": [
  {
   "cell_type": "markdown",
   "id": "fbb762bd-ff98-4cbb-ad0d-e1eee9bc0ee3",
   "metadata": {},
   "source": [
    "# OOPS Assignment"
   ]
  },
  {
   "cell_type": "markdown",
   "id": "bf08061e-0a7a-440e-a9f8-c437db358acc",
   "metadata": {},
   "source": [
    "# Theory Questions"
   ]
  },
  {
   "cell_type": "markdown",
   "id": "e263eb8e-2c8b-460c-b79d-b3a9155c81d3",
   "metadata": {},
   "source": [
    "**1. What is Object-Oriented Programming (OOP)?**\n",
    "- object-oriented programing that is the concept of object and classes to make the program more modular,reusable and easier to understand and maintain\n",
    "- 4 main principles:Encapsulation, Abstraction, Inheritance, Polymorphism"
   ]
  },
  {
   "cell_type": "markdown",
   "id": "3f375670-ad58-4d77-9625-8b26fac33359",
   "metadata": {},
   "source": [
    "**2. What is a class in OOP?**\n",
    "- class is a blueprint or template that defines the properties and behaviours of an object\n",
    "- blueprint for creating object.\n",
    "- contain attributes(data) and method(function)\n",
    "- example: class Car :"
   ]
  },
  {
   "cell_type": "markdown",
   "id": "b3d774bd-d424-4cfb-b94a-5d9a9ad28ed8",
   "metadata": {},
   "source": [
    "**3. What is an object in OOP?**\n",
    "- an object is an instance of a class,representing a real-world entity with its own set of attributes(data) and methods(function)\n",
    "- has its own data and behavior."
   ]
  },
  {
   "cell_type": "markdown",
   "id": "12bc4ce7-67be-4477-84ec-03b9407c38bc",
   "metadata": {},
   "source": [
    "**4. What is the difference between abstraction and encapsulation?**\n",
    "- Abstraction hides unnecessarey details and shows only important features\n",
    "- Encapsulation hides internal data and access modifiers like private or protected"
   ]
  },
  {
   "cell_type": "markdown",
   "id": "ee9ef744-9ff8-4ef7-be8b-350128926ca7",
   "metadata": {},
   "source": [
    "**5. What are dunder methods in Python?**\n",
    "- Dounder (double underscore) method\n",
    "- it is a special method like __init__, __str__,etc\n",
    "- it is magic methods"
   ]
  },
  {
   "cell_type": "markdown",
   "id": "b0f8d1ca-6141-411c-8c26-140f8a201b82",
   "metadata": {},
   "source": [
    "**6. Explain the concept of inheritance in OOP.**\n",
    "- it helps in reusing code and building relationship between classes\n",
    "- reuse code from parent class\n",
    "- child class gets attributes,method"
   ]
  },
  {
   "cell_type": "markdown",
   "id": "c077eaea-72f2-4895-b4e4-fffc5fd71836",
   "metadata": {},
   "source": [
    "**7. What is polymorphism in OOP?**\n",
    "- polymorphism means one function or method behave differently based on the object or method.\n",
    "- it allows same method and different behaviour\n",
    "- used with function and operators"
   ]
  },
  {
   "cell_type": "markdown",
   "id": "9d20d6c7-12d6-4cd7-8570-2f43b7611ede",
   "metadata": {},
   "source": [
    "**8. How is encapsulation achieved in Python?**\n",
    "- Encapsulation means wrapping data and code together into a single class\n",
    "- used private variables"
   ]
  },
  {
   "cell_type": "markdown",
   "id": "14d4f170-cd13-482c-be73-bf06fcbbebbc",
   "metadata": {},
   "source": [
    "**9. What is a constructor in Python?**\n",
    "- A constructor is a special method used to initialize objects when a class is created\n",
    "- it is mainly used to initialize instance variable like name, age, etc\n",
    "- you can pass arguments to it initialize object to data\n",
    "- the __init__() method is the constructor."
   ]
  },
  {
   "cell_type": "markdown",
   "id": "292278f9-a543-4427-b775-f7db135f426e",
   "metadata": {},
   "source": [
    "**10. What are class and static methods in Python?**\n",
    "- class:\n",
    "- it works with the class itself. not with an instance(object)\n",
    "- takes cls as the first argument (not self)\n",
    "- used to create or modify class-level-data\n",
    "- static:\n",
    "- doesn't take self or cls as the first argument\n",
    "- it does not depend on instance or class variable"
   ]
  },
  {
   "cell_type": "markdown",
   "id": "36b9e353-fd3c-4586-8d31-b17746e0fd1c",
   "metadata": {},
   "source": [
    "**11. What is method overloading in Python?**\n",
    "- python does not support traditional method overloading like other language\n",
    "- python supports using default arguments (*args, **kwargs)"
   ]
  },
  {
   "cell_type": "markdown",
   "id": "c4b7f187-93dd-44b0-acc3-bf2338686298",
   "metadata": {},
   "source": [
    "**12. What is method overriding in OOP\n",
    "- subclass redefines parent method\n",
    "- runtime polymorphism\n",
    "- it allows different behavior for the same method name depending on the object type."
   ]
  },
  {
   "cell_type": "markdown",
   "id": "3f4e1fcb-18b7-4d51-b237-9b08fe8a6359",
   "metadata": {},
   "source": [
    "**13. What is a property decorator in Python?**\n",
    "- The @propertymethod decorate lats you access a method like an attribute\n",
    "- it is used to control access to private variables without changing the way you call it.\n",
    "- access method like attribute"
   ]
  },
  {
   "cell_type": "markdown",
   "id": "c4c9b9fa-a924-435e-9ad6-dba4f1798ae4",
   "metadata": {},
   "source": [
    "**14. Why is polymorphism important in OOP?**\n",
    "- same method name but different classes\n",
    "- it increase flexibility and simplifies code reuse."
   ]
  },
  {
   "cell_type": "markdown",
   "id": "decb4d85-c235-4b5d-a12f-9f77b4134f3f",
   "metadata": {},
   "source": [
    "**15. What is an abstract class in Python?**\n",
    "- An abstract class is a class that cannot be instantiated and may contain abstract method that must be implemented in child classes\n",
    "- python provide this uding the abc module\n",
    "- contain @abstractmethod"
   ]
  },
  {
   "cell_type": "markdown",
   "id": "d08c7dcd-1c9b-44cc-9c56-3d85a3b57731",
   "metadata": {},
   "source": [
    "**16. What are the advantages of OOP?**\n",
    "- Oop provide modular structure, code reusability, easier maintenance and better data security through encapsuation\n",
    "- it also supports inheritance and polymorphism"
   ]
  },
  {
   "cell_type": "markdown",
   "id": "442c15dd-6676-48af-afb0-df6feb022ca2",
   "metadata": {},
   "source": [
    "**17. What is the difference between a class variable and an instance variable?**\n",
    "- Class variable is shared by all objects\n",
    "- instance variabe is unique to each object\n",
    "- Defined: inside class vs inside __ init __()"
   ]
  },
  {
   "cell_type": "markdown",
   "id": "9d6cbe0c-2949-40de-b3e3-ff539080a52f",
   "metadata": {},
   "source": [
    "**18. What is multiple inheritance in Python?**\n",
    "- one class inherits from multiple parents\n",
    "- syntax: class D(a,b)\n",
    "- it used method resolution order (MRO)"
   ]
  },
  {
   "cell_type": "markdown",
   "id": "f2fa8917-8e2a-491f-b52b-ad4f218a75aa",
   "metadata": {},
   "source": [
    "**19. Explain the purpose of \" __ str __ 'and' __ repr __ \"methods in Python.**\n",
    "- __ str __(): return a readable string for end users\n",
    "- __ repr __(): return a string mainly for developers and debugging\n",
    "- both are used to represent an object as a string"
   ]
  },
  {
   "cell_type": "markdown",
   "id": "b3f47c0c-9ca6-48f7-95b8-2ae3d5386b45",
   "metadata": {},
   "source": [
    "**20. What is the significance of the 'super()' function in Python?**\n",
    "- super() allows you to call method from the parent class\n",
    "- it helps avoid code duplication and support method resolution order in multiple inheritance.\n",
    "- used method in overriding"
   ]
  },
  {
   "cell_type": "markdown",
   "id": "8b2fd593-9930-473c-b179-83bf756514a6",
   "metadata": {},
   "source": [
    "**21. What is the significance of the __ del __ method in Python?**\n",
    "- The __ del __() method is a destructor that is called when an object is deleted\n",
    "- it's used for cleanup activities like closing files and releasing resource."
   ]
  },
  {
   "cell_type": "markdown",
   "id": "c0d3d99f-b5ec-448d-8946-2d50996039ef",
   "metadata": {},
   "source": [
    "**22. What is the difference between @staticmethod and @classmethod?**\n",
    "- @sataticmethod doesn't take self or cls and works like a regular function inside a class\n",
    "- @classmethod takes cls as its first arguments and can access/modify class-level data"
   ]
  },
  {
   "cell_type": "markdown",
   "id": "2a12c4f9-9247-43d5-b86d-0211181704c0",
   "metadata": {},
   "source": [
    "**23. How does polymorphism work in Python with inheritance?**\n",
    "- it is overriding parent method in child class\n",
    "- different behavior but same interface\n",
    "- enhances flexibility"
   ]
  },
  {
   "cell_type": "markdown",
   "id": "a5b147ca-646b-4bfa-8f8f-73f6d7029a95",
   "metadata": {},
   "source": [
    "**24. What is method chaining in Python OOP\n",
    "- calling multiple method in one line using dots>>e.g, obj.method()\n",
    "- each method returns"
   ]
  },
  {
   "cell_type": "markdown",
   "id": "43211441-8103-4bb1-be69-4464eb2bfaf6",
   "metadata": {},
   "source": [
    "**25. What is the purpose of the __ call __ method in Python?**\n",
    "- The __ call __() method allows an object to be called like a function\n",
    "- it makes the object behave like a function and useful in classes that wrap logic or function"
   ]
  },
  {
   "cell_type": "markdown",
   "id": "784c49f6-227f-4214-a25d-3b0638ebe66b",
   "metadata": {},
   "source": []
  },
  {
   "cell_type": "markdown",
   "id": "79abd0c5-b2af-4500-9bc5-32df3420fb4e",
   "metadata": {},
   "source": [
    "# Practical Question"
   ]
  },
  {
   "cell_type": "markdown",
   "id": "321eab63-3fd4-4c2a-856c-802392c2a638",
   "metadata": {},
   "source": [
    "**1. Create a parent class Animal with a method speak() that prints a generic message. Create a child class Dog that overrides the speak() method to print \"Bark!\".**"
   ]
  },
  {
   "cell_type": "code",
   "execution_count": 7,
   "id": "623f8fd3-e8e5-4c5f-a3ae-deb06d3ebce0",
   "metadata": {},
   "outputs": [],
   "source": [
    "class Animal:\n",
    "    def speak(self): #this method print a generic animal sound\n",
    "        print('This is a generic animal sound')\n",
    "\n",
    "class Dog(Animal):  #this method override the speak method of animal class\n",
    "    def speak(self):\n",
    "        print('Barki!')"
   ]
  },
  {
   "cell_type": "code",
   "execution_count": 8,
   "id": "54e677d5-94a1-4dab-b4b8-1da4c9e8538b",
   "metadata": {},
   "outputs": [],
   "source": [
    "obj1 = Animal()"
   ]
  },
  {
   "cell_type": "code",
   "execution_count": 9,
   "id": "5b082878-4f57-4b59-81ff-d03ab8cd2968",
   "metadata": {},
   "outputs": [
    {
     "name": "stdout",
     "output_type": "stream",
     "text": [
      "This is a generic animal sound\n"
     ]
    }
   ],
   "source": [
    "obj1.speak()"
   ]
  },
  {
   "cell_type": "code",
   "execution_count": 10,
   "id": "2ddb3d2c-b702-4037-a01c-fe29e08a182a",
   "metadata": {},
   "outputs": [],
   "source": [
    "obj2 = Dog()"
   ]
  },
  {
   "cell_type": "code",
   "execution_count": 12,
   "id": "772c7a32-83de-4801-919f-03b88be19ef0",
   "metadata": {},
   "outputs": [
    {
     "name": "stdout",
     "output_type": "stream",
     "text": [
      "Barki!\n"
     ]
    }
   ],
   "source": [
    "obj2.speak()"
   ]
  },
  {
   "cell_type": "markdown",
   "id": "f518279d-9643-4f85-a5ea-22967659c6fc",
   "metadata": {},
   "source": [
    "**2. Write a program to create an abstract class Shape with a method area(). Derive classes Circle and Rectangle from it and implement the area() method in both.**"
   ]
  },
  {
   "cell_type": "code",
   "execution_count": 5,
   "id": "19b4d318-ba6e-4b5a-9771-ed653b4bb8ff",
   "metadata": {},
   "outputs": [],
   "source": [
    "import abc\n",
    "class Shape:\n",
    "    @abc.abstractmethod\n",
    "    def area(self):\n",
    "        print('this is a shape class')\n",
    "class Circle(Shape):\n",
    "    @abc.abstractmethod\n",
    "    def area(self):\n",
    "        print('this is a area of circle')\n",
    "class Rectangle(Shape):\n",
    "    @abc.abstractmethod\n",
    "    def area(self):\n",
    "        print('this is a area of ractangle')"
   ]
  },
  {
   "cell_type": "code",
   "execution_count": 6,
   "id": "67e7a969-8a5c-4cb7-9cd3-ce9aed790374",
   "metadata": {},
   "outputs": [
    {
     "name": "stdout",
     "output_type": "stream",
     "text": [
      "this is a shape class\n"
     ]
    }
   ],
   "source": [
    "a1 = Shape()\n",
    "a1.area()"
   ]
  },
  {
   "cell_type": "code",
   "execution_count": 7,
   "id": "172d59f5-6f26-4111-bcdf-db9d7bab5a52",
   "metadata": {},
   "outputs": [
    {
     "name": "stdout",
     "output_type": "stream",
     "text": [
      "this is a area of circle\n"
     ]
    }
   ],
   "source": [
    "a2 = Circle()\n",
    "a2.area()"
   ]
  },
  {
   "cell_type": "code",
   "execution_count": 8,
   "id": "dd422371-a9d9-48e4-a794-fa94bad3da97",
   "metadata": {},
   "outputs": [
    {
     "name": "stdout",
     "output_type": "stream",
     "text": [
      "this is a area of ractangle\n"
     ]
    }
   ],
   "source": [
    "a3 = Rectangle()\n",
    "a3.area()"
   ]
  },
  {
   "cell_type": "markdown",
   "id": "442b9041-57c8-4b98-bd32-9167b25bd752",
   "metadata": {},
   "source": [
    "**3. Implement a multi-level inheritance scenario where a class Vehicle has an attribute type. Derive a class Car and further derive a class ElectricCar that adds a battery attribute.**"
   ]
  },
  {
   "cell_type": "code",
   "execution_count": 12,
   "id": "62c7f9d5-c569-4bde-a917-14e5a9b29578",
   "metadata": {},
   "outputs": [],
   "source": [
    "#base class vehicle\n",
    "class Vehicle:\n",
    "    def __init__(self, vehicle_type):\n",
    "        self.vehicle_type = vehicle_type\n",
    "\n",
    "class Car(Vehicle):\n",
    "    def __init__(self, vehicle_type, brand):\n",
    "        super().__init__(vehicle_type)\n",
    "        self.brand = brand\n",
    "\n",
    "class ElectricCar(Car):\n",
    "    def __init__(self, vehicle_type, brand, battery):\n",
    "        super().__init__(vehicle_type, brand)\n",
    "        self.battery = battery\n",
    "ecar = ElectricCar(\"Four wheeler\", \"Tesla\", \"75 kwh\")"
   ]
  },
  {
   "cell_type": "code",
   "execution_count": 18,
   "id": "9caf096d-da55-4215-ae5e-acf4d182c1e3",
   "metadata": {},
   "outputs": [
    {
     "name": "stdout",
     "output_type": "stream",
     "text": [
      "Type: Four wheeler\n",
      "Brand: Tesla\n",
      "Battery: 75 kwh\n"
     ]
    }
   ],
   "source": [
    "print(\"Type:\", ecar.vehicle_type)\n",
    "print(\"Brand:\", ecar.brand)\n",
    "print(\"Battery:\", ecar.battery)"
   ]
  },
  {
   "cell_type": "markdown",
   "id": "01f1b5c4-2196-41bf-98fb-12781ef5f2c0",
   "metadata": {},
   "source": [
    "**4. Demonstrate polymorphism by creating a base class Bird with a method fly(). Create two derived classes Sparrow and Penguin that override the fly() method.**"
   ]
  },
  {
   "cell_type": "code",
   "execution_count": 20,
   "id": "4b781ea5-b634-4ea6-968c-f7624274ee80",
   "metadata": {},
   "outputs": [],
   "source": [
    "class Bird:  #base class Bird\n",
    "    def fly(self):\n",
    "        print('Bird is flying')\n",
    "#derived class sparrow\n",
    "class Sparrow(Bird):\n",
    "    def fly(self):\n",
    "        print('Sparrow flies high')\n",
    "#derived class penguin\n",
    "class Penguin(Bird):\n",
    "    def fly(self):\n",
    "        print('Penguin cannot fly')"
   ]
  },
  {
   "cell_type": "code",
   "execution_count": 21,
   "id": "7f923e96-dcec-4bb1-abee-e9a014fc95a2",
   "metadata": {},
   "outputs": [],
   "source": [
    "a1 = Sparrow()\n",
    "a2 = Penguin()"
   ]
  },
  {
   "cell_type": "code",
   "execution_count": 24,
   "id": "ddfe00bc-cf05-4abf-9cc8-b2ef6f0ed704",
   "metadata": {},
   "outputs": [
    {
     "name": "stdout",
     "output_type": "stream",
     "text": [
      "Sparrow flies high\n",
      "Penguin cannot fly\n"
     ]
    }
   ],
   "source": [
    "a1.fly()\n",
    "a2.fly()"
   ]
  },
  {
   "cell_type": "markdown",
   "id": "0f911499-c7ed-40b4-b8f4-29c315a6a576",
   "metadata": {},
   "source": [
    "**5. Write a program to demonstrate encapsulation by creating a class BankAccount with private attributes balance and methods to deposit, withdraw, and check balance.**"
   ]
  },
  {
   "cell_type": "code",
   "execution_count": 25,
   "id": "d748b040-6e19-45de-9930-f56ed0667b62",
   "metadata": {},
   "outputs": [],
   "source": [
    "class BankAccount:\n",
    "    def __init__(self, balance):\n",
    "        self.__balance = balance\n",
    "    def deposit(self, amount):\n",
    "        self.__balance += amount\n",
    "    def withdraw(self, amount):\n",
    "        if amount <= self.__balance:\n",
    "            self.__balance -= amount\n",
    "        else:\n",
    "            print('Insufficient balance')\n",
    "    def check_balance(self):\n",
    "        return self.__balance\n",
    "        "
   ]
  },
  {
   "cell_type": "code",
   "execution_count": 26,
   "id": "cd868543-b415-4281-9278-ad9abc3b9938",
   "metadata": {},
   "outputs": [
    {
     "name": "stdout",
     "output_type": "stream",
     "text": [
      "Balance: 1300\n"
     ]
    }
   ],
   "source": [
    "acc = BankAccount(1000)\n",
    "acc.deposit(500)\n",
    "acc.withdraw(200)\n",
    "print('Balance:', acc.check_balance())"
   ]
  },
  {
   "cell_type": "markdown",
   "id": "434cc30c-5f9f-4374-b9ee-6797019784ff",
   "metadata": {},
   "source": [
    "**6. Demonstrate runtime polymorphism using a method play() in a base class Instrument. Derive classes Guitar and Piano that implement their own version of play().**"
   ]
  },
  {
   "cell_type": "code",
   "execution_count": 27,
   "id": "03dab014-e439-46e3-b8f6-d865a6f8be82",
   "metadata": {},
   "outputs": [],
   "source": [
    "class Instrument:\n",
    "    def play(self):\n",
    "        prnt('Instrument is playing')\n",
    "class Guitar(Instrument):\n",
    "    def play(self):\n",
    "        print('Guitar is strumming')\n",
    "class Piano(Instrument):\n",
    "    def play(self):\n",
    "        print('Piano is playing melody')"
   ]
  },
  {
   "cell_type": "code",
   "execution_count": 28,
   "id": "4e4de1a7-2209-4501-aff0-1d169f65c913",
   "metadata": {},
   "outputs": [],
   "source": [
    "g = Guitar()\n",
    "p = Piano()"
   ]
  },
  {
   "cell_type": "code",
   "execution_count": 29,
   "id": "cf4fd2b0-76b4-40d2-9dec-83ce1f2f43cb",
   "metadata": {},
   "outputs": [
    {
     "name": "stdout",
     "output_type": "stream",
     "text": [
      "Guitar is strumming\n",
      "Piano is playing melody\n"
     ]
    }
   ],
   "source": [
    "g.play()\n",
    "p.play()"
   ]
  },
  {
   "cell_type": "markdown",
   "id": "557bd550-30d2-4ce2-a55b-4bc62e2773b8",
   "metadata": {},
   "source": [
    "**7. Create a class MathOperations with a class method add_numbers() to add two numbers and a static method subtract_numbers() to subtract two numbers.**"
   ]
  },
  {
   "cell_type": "code",
   "execution_count": 32,
   "id": "af0dbf1a-460a-4f3b-831d-aac72c3ec3b4",
   "metadata": {},
   "outputs": [],
   "source": [
    "class MathOperations:\n",
    "    @classmethod\n",
    "    def add_num(cls, a, b):\n",
    "        return a+b\n",
    "\n",
    "    @staticmethod\n",
    "    def subtract_num(a, b):\n",
    "        return a-b"
   ]
  },
  {
   "cell_type": "code",
   "execution_count": 33,
   "id": "c4d90cec-f81f-4370-9e9c-79cb410f85ed",
   "metadata": {},
   "outputs": [
    {
     "name": "stdout",
     "output_type": "stream",
     "text": [
      "addition: 600\n",
      "sunstraction: 500\n"
     ]
    }
   ],
   "source": [
    "print('addition:', MathOperations.add_num(100, 500))\n",
    "print('sunstraction:', MathOperations.subtract_num(1000, 500))"
   ]
  },
  {
   "cell_type": "markdown",
   "id": "f667268a-20bb-44c7-862b-eb3e16197860",
   "metadata": {},
   "source": [
    "**8. Implement a class Person with a class method to count the total number of persons created.**"
   ]
  },
  {
   "cell_type": "code",
   "execution_count": 36,
   "id": "659fc3bf-57a6-4715-9919-d153e4b9dc24",
   "metadata": {},
   "outputs": [],
   "source": [
    "class Person:\n",
    "    count = 0 \n",
    "\n",
    "    def __init__(self):\n",
    "        Person.count += 1\n",
    "\n",
    "    @classmethod\n",
    "    def total_person(cls):\n",
    "        return cls.count"
   ]
  },
  {
   "cell_type": "code",
   "execution_count": 37,
   "id": "c73b476e-2348-44a7-90bb-c9eb91b04e06",
   "metadata": {},
   "outputs": [
    {
     "name": "stdout",
     "output_type": "stream",
     "text": [
      "Total person: 3\n"
     ]
    }
   ],
   "source": [
    "p1 = Person()\n",
    "p2 = Person()\n",
    "p3 = Person()\n",
    "print('Total person:', Person.total_person())"
   ]
  },
  {
   "cell_type": "markdown",
   "id": "64f658a3-32a7-43bd-8e98-c0f77ae5fc4b",
   "metadata": {},
   "source": [
    "**9. Write a class Fraction with attributes numerator and denominator. Override the str method to display the fraction as \"numerator/denominator\".**"
   ]
  },
  {
   "cell_type": "code",
   "execution_count": 9,
   "id": "f348e766-785e-47d0-8a15-8c8293ee5f5a",
   "metadata": {},
   "outputs": [],
   "source": [
    "class Fraction:\n",
    "    def __init__(self, numerator, denominator):\n",
    "        self.numerator = numerator\n",
    "        self.denominator = denominator\n",
    "    \n",
    "        def __str__(self):\n",
    "            return f\"{self.numerator}/{self.denominator}\""
   ]
  },
  {
   "cell_type": "code",
   "execution_count": 10,
   "id": "0d3e23d8-d557-471c-85de-d5340ac3779e",
   "metadata": {},
   "outputs": [],
   "source": [
    "a = Fraction(4,5)"
   ]
  },
  {
   "cell_type": "code",
   "execution_count": 11,
   "id": "6af68dfe-644c-48a1-be27-62926dffebee",
   "metadata": {},
   "outputs": [
    {
     "data": {
      "text/plain": [
       "5"
      ]
     },
     "execution_count": 11,
     "metadata": {},
     "output_type": "execute_result"
    }
   ],
   "source": [
    "a.denominator"
   ]
  },
  {
   "cell_type": "code",
   "execution_count": 12,
   "id": "95b69995-c59d-44f9-a162-6b8309d7a936",
   "metadata": {},
   "outputs": [
    {
     "data": {
      "text/plain": [
       "4"
      ]
     },
     "execution_count": 12,
     "metadata": {},
     "output_type": "execute_result"
    }
   ],
   "source": [
    "a.numerator"
   ]
  },
  {
   "cell_type": "markdown",
   "id": "69635487-be97-4eb6-bbff-3487acd783af",
   "metadata": {},
   "source": [
    "**10. Demonstrate operator overloading by creating a class Vector and overriding the add method to add two vectors.**"
   ]
  },
  {
   "cell_type": "code",
   "execution_count": 17,
   "id": "d780e43a-2fce-433f-85eb-93868dce13f5",
   "metadata": {},
   "outputs": [],
   "source": [
    "class Vector:\n",
    "    def __init__(self, x, y):\n",
    "        self.x =  x\n",
    "        self.y = y\n",
    "    def __add__(self, other):\n",
    "        return Vector(self.x + other.x, self.y +\n",
    "other.y)\n",
    "    def __str__(self):\n",
    "        return f\"({self.x}, {self.y})\""
   ]
  },
  {
   "cell_type": "code",
   "execution_count": 19,
   "id": "a81ca402-07cd-4d91-8918-6960320da8c4",
   "metadata": {},
   "outputs": [
    {
     "name": "stdout",
     "output_type": "stream",
     "text": [
      "Result vector: (3, 7)\n"
     ]
    }
   ],
   "source": [
    "v1 = Vector(2,3)\n",
    "v2 = Vector(1,4)\n",
    "v3 = v1+v2\n",
    "print('Result vector:',v3)"
   ]
  },
  {
   "cell_type": "markdown",
   "id": "d38c34e2-f0ce-42f8-aebd-affcdbbc1d8b",
   "metadata": {},
   "source": [
    "**1l. Create a class Person with attributes name and age. Add a method greet() that prints \"Hello, my name is {name} and I am {age} years old.\"**"
   ]
  },
  {
   "cell_type": "code",
   "execution_count": 20,
   "id": "3073e16e-c2eb-4601-9c8c-56d1ea0056c0",
   "metadata": {},
   "outputs": [],
   "source": [
    "class Person: \n",
    "    def __init__(self, name, age):\n",
    "        self.name = name\n",
    "        self.age = age\n",
    "    def greet(self):\n",
    "        return f\"Hello, my name is {self.name} and I am {self.age} years old\""
   ]
  },
  {
   "cell_type": "code",
   "execution_count": 21,
   "id": "f16d8fe0-af7d-4315-a8b4-5ab403253a2e",
   "metadata": {},
   "outputs": [
    {
     "name": "stdout",
     "output_type": "stream",
     "text": [
      "Hello, my name is Diksha and I am 21 years old\n"
     ]
    }
   ],
   "source": [
    "p= Person('Diksha',21)\n",
    "print(p.greet())"
   ]
  },
  {
   "cell_type": "markdown",
   "id": "d183ea03-58ec-44f7-a66e-24d94058ab6f",
   "metadata": {},
   "source": [
    "**12. Implement a class Student with attributes name and grades. Create a method average_grade() to compute the average of the grades.**"
   ]
  },
  {
   "cell_type": "code",
   "execution_count": 22,
   "id": "45de43cf-7b5c-45c4-8252-294be6776699",
   "metadata": {},
   "outputs": [],
   "source": [
    "class Student:\n",
    "    def __init__(self, name, grades):\n",
    "        self.name = name\n",
    "        self.grades = grades\n",
    "    def average_grade(self):\n",
    "        return sum(self.grades)/ len(self.grades)"
   ]
  },
  {
   "cell_type": "code",
   "execution_count": 23,
   "id": "c5544bcc-77a9-4d86-b250-7ec426e72618",
   "metadata": {},
   "outputs": [
    {
     "name": "stdout",
     "output_type": "stream",
     "text": [
      "Average grade: 89.33333333333333\n"
     ]
    }
   ],
   "source": [
    "s = Student('Diksha', [90,86,92])\n",
    "print('Average grade:', s.average_grade())"
   ]
  },
  {
   "cell_type": "markdown",
   "id": "9783aa26-6768-4a43-bc1b-f1d72666c8f8",
   "metadata": {},
   "source": [
    "**13. Create a class Rectangle with methods set_dimensions() to set the dimensions and area() to calculate the area.**"
   ]
  },
  {
   "cell_type": "code",
   "execution_count": 24,
   "id": "fc1d540f-01ae-44c0-b4e9-cf9260d6827b",
   "metadata": {},
   "outputs": [],
   "source": [
    "class Rectangle:\n",
    "    def set_dimensions(self, length, width):\n",
    "        self.length = length\n",
    "        self.width = width\n",
    "    def area(self):\n",
    "        return self.length * self.width"
   ]
  },
  {
   "cell_type": "code",
   "execution_count": 25,
   "id": "bb7d6d0d-2bb8-450d-99b8-e16370ac4949",
   "metadata": {},
   "outputs": [
    {
     "name": "stdout",
     "output_type": "stream",
     "text": [
      "Area of ractangle: 20\n"
     ]
    }
   ],
   "source": [
    "r = Rectangle()\n",
    "r.set_dimensions(5,4)\n",
    "print('Area of ractangle:', r.area())"
   ]
  },
  {
   "cell_type": "markdown",
   "id": "1983b90c-a594-4a37-ad78-dcfadbdc9f65",
   "metadata": {},
   "source": [
    "**14. Create a class Employee with a method calculate_salary() that computes the salary based on hours worked and hourly rate. Create a derived class Manager that adds a bonus to the salary.**"
   ]
  },
  {
   "cell_type": "code",
   "execution_count": 29,
   "id": "dd642484-221d-40f5-840d-d751741b44b3",
   "metadata": {},
   "outputs": [],
   "source": [
    "class Employee:\n",
    "    def salary(self, hrs, rate):\n",
    "        return hrs * rate\n",
    "class Manager(Employee):\n",
    "    def salary(self, hrs, rate, bonus):\n",
    "        base_salary = super().salary(hrs, rate)\n",
    "        return base_salary + bonus"
   ]
  },
  {
   "cell_type": "code",
   "execution_count": 30,
   "id": "687e81de-6546-421b-b80e-e357e29f302e",
   "metadata": {},
   "outputs": [
    {
     "name": "stdout",
     "output_type": "stream",
     "text": [
      "Manager salary: 9000\n"
     ]
    }
   ],
   "source": [
    "m = Manager()\n",
    "print('Manager salary:', m.salary(40, 200, 1000))"
   ]
  },
  {
   "cell_type": "markdown",
   "id": "3f856e7a-f104-4812-b993-192e1a21b0c4",
   "metadata": {},
   "source": [
    "**15. Create a class Product with attributes name, price, and quantity. Implement a method total_price() that calculates the total price of the product.**"
   ]
  },
  {
   "cell_type": "code",
   "execution_count": 34,
   "id": "b67692ba-05e8-47a2-a1fc-b573001cf070",
   "metadata": {},
   "outputs": [],
   "source": [
    "class Product:\n",
    "    def __init__(self, name, price, quantity):\n",
    "        self.name = name\n",
    "        self.price = price\n",
    "        self.quantity = quantity\n",
    "    def total(self):\n",
    "        return self.price * self.quantity"
   ]
  },
  {
   "cell_type": "code",
   "execution_count": 35,
   "id": "cc8c9f08-9709-45e9-ac0a-e7d6ac9998a1",
   "metadata": {},
   "outputs": [
    {
     "name": "stdout",
     "output_type": "stream",
     "text": [
      "Total price: 50\n"
     ]
    }
   ],
   "source": [
    "p = Product('pen', 10, 5)\n",
    "print('Total price:', p.total())"
   ]
  },
  {
   "cell_type": "markdown",
   "id": "a31545bc-3c08-464e-985a-776cc70900d7",
   "metadata": {},
   "source": [
    "**16. Create a class Animal with an abstract method sound(). Create two derived classes Cow and Sheep that implement the sound() method.**"
   ]
  },
  {
   "cell_type": "code",
   "execution_count": 37,
   "id": "9e239488-7751-478b-ba13-ac911257bf1f",
   "metadata": {},
   "outputs": [],
   "source": [
    "from abc import ABC, abstractmethod\n",
    "\n",
    "class Animal(ABC):\n",
    "    @abstractmethod\n",
    "    def sound(self):\n",
    "        pass\n",
    "\n",
    "class Cow(Animal):\n",
    "    def sound(self):\n",
    "        return \"moo\"\n",
    "\n",
    "class Sheep(Animal):\n",
    "    def sound(self):\n",
    "        return \"baa\""
   ]
  },
  {
   "cell_type": "code",
   "execution_count": 38,
   "id": "60c9880c-9df3-431f-aa67-1d477196ca87",
   "metadata": {},
   "outputs": [],
   "source": [
    "c = Cow()\n",
    "s = Sheep()"
   ]
  },
  {
   "cell_type": "code",
   "execution_count": 39,
   "id": "f71a67ea-092a-4628-b214-da2fcfd20e37",
   "metadata": {},
   "outputs": [
    {
     "name": "stdout",
     "output_type": "stream",
     "text": [
      "Cow sound: moo\n",
      "Sheep sound: baa\n"
     ]
    }
   ],
   "source": [
    "print('Cow sound:', c.sound())\n",
    "print('Sheep sound:', s.sound())"
   ]
  },
  {
   "cell_type": "markdown",
   "id": "a9919f95-0b39-4329-ac9a-2d5ee38aef30",
   "metadata": {},
   "source": [
    "**17. Create a class Book with attributes title, author, and year_published. Add a method get_book_info() that returns a formatted string with the book's details.**"
   ]
  },
  {
   "cell_type": "code",
   "execution_count": 17,
   "id": "acdb0def-66d0-40e7-8f02-824d9a6ff197",
   "metadata": {},
   "outputs": [],
   "source": [
    "class Book:\n",
    "    def __init__(self, title, auther, year_published):\n",
    "        self.title = title\n",
    "        self.author = author\n",
    "        self.year_published = year_published\n",
    "    def get_book_info(self):\n",
    "        print(f\"Title: {self.title}\")\n",
    "        print(f\"Author: {self.author}\")\n",
    "        print(f\"Published year: {self.year_published}\")"
   ]
  },
  {
   "cell_type": "code",
   "execution_count": 22,
   "id": "a3ae61d6-05c2-40f9-b2c8-f0046945a2c0",
   "metadata": {},
   "outputs": [],
   "source": [
    "book1 = ('Shriman yogi', 'Ranjit desai', 1970)\n",
    "book2 = ('Chhava', 'Shivaji swant', 1980)"
   ]
  },
  {
   "cell_type": "code",
   "execution_count": 23,
   "id": "414fc361-fb70-4af7-8e97-6a149ad75e2d",
   "metadata": {},
   "outputs": [
    {
     "ename": "AttributeError",
     "evalue": "'tuple' object has no attribute 'get_book_info'",
     "output_type": "error",
     "traceback": [
      "\u001b[31m---------------------------------------------------------------------------\u001b[39m",
      "\u001b[31mAttributeError\u001b[39m                            Traceback (most recent call last)",
      "\u001b[36mCell\u001b[39m\u001b[36m \u001b[39m\u001b[32mIn[23]\u001b[39m\u001b[32m, line 1\u001b[39m\n\u001b[32m----> \u001b[39m\u001b[32m1\u001b[39m \u001b[43mbook1\u001b[49m\u001b[43m.\u001b[49m\u001b[43mget_book_info\u001b[49m()\n",
      "\u001b[31mAttributeError\u001b[39m: 'tuple' object has no attribute 'get_book_info'"
     ]
    }
   ],
   "source": [
    "book1.get_book_info()"
   ]
  },
  {
   "cell_type": "markdown",
   "id": "04bd79bf-dd17-4cab-880a-a1b054080efa",
   "metadata": {},
   "source": [
    "**18. Create a class House with attributes address and price. Create a derived class Mansion that adds an attribute number_of_rooms.**"
   ]
  },
  {
   "cell_type": "code",
   "execution_count": 6,
   "id": "4381b4ea-09dd-4f18-9afc-e366075b01a8",
   "metadata": {},
   "outputs": [],
   "source": [
    "class House:\n",
    "    def __init__(self, address, price):\n",
    "        self.address = address\n",
    "        self.price = price\n",
    "    def display_info(self):\n",
    "        print(f\"Address: {self.address}\")\n",
    "        print(f\"price: {self.price}\")\n",
    "class Mansion(House):\n",
    "    def __init__(self, address, price, num_of_rooms):\n",
    "        super().__init__(address, price)\n",
    "        self.num_of_rooms = num_of_rooms\n",
    "    def display_info(self):\n",
    "        super().display_info()\n",
    "        print(f\"Number of rooms: {self.num_of_rooms}\")"
   ]
  },
  {
   "cell_type": "code",
   "execution_count": 7,
   "id": "56c91162-cdd8-4a0f-9188-c3301a532bc1",
   "metadata": {},
   "outputs": [],
   "source": [
    "m1 = Mansion('123 Palace street, Mumbai', 5000000, 10)\n"
   ]
  },
  {
   "cell_type": "code",
   "execution_count": 8,
   "id": "4f3c8acf-07f4-4755-9598-0026a4a36f23",
   "metadata": {},
   "outputs": [
    {
     "name": "stdout",
     "output_type": "stream",
     "text": [
      "Address: 123 Palace street, Mumbai\n",
      "price: 5000000\n",
      "Number of rooms: 10\n"
     ]
    }
   ],
   "source": [
    "m1.display_info()"
   ]
  }
 ],
 "metadata": {
  "kernelspec": {
   "display_name": "Python 3 (ipykernel)",
   "language": "python",
   "name": "python3"
  },
  "language_info": {
   "codemirror_mode": {
    "name": "ipython",
    "version": 3
   },
   "file_extension": ".py",
   "mimetype": "text/x-python",
   "name": "python",
   "nbconvert_exporter": "python",
   "pygments_lexer": "ipython3",
   "version": "3.13.5"
  }
 },
 "nbformat": 4,
 "nbformat_minor": 5
}
