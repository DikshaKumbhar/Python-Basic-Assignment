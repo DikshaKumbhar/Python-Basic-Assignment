{
 "cells": [
  {
   "cell_type": "markdown",
   "id": "a1f17c0f-ef01-4f8b-861a-4fba34d89819",
   "metadata": {},
   "source": [
    "# Data Types and Structures Assignment"
   ]
  },
  {
   "cell_type": "markdown",
   "id": "08c89b56-7256-453f-86e0-0a75f72cbbaa",
   "metadata": {},
   "source": [
    "# Theroy Questions"
   ]
  },
  {
   "cell_type": "markdown",
   "id": "cdceb4e2-2361-444a-85ab-a6ede2f007e7",
   "metadata": {},
   "source": [
    "**1. What are data structures, and why are they important?**\n",
    "- Data structures are specialized formats for organizing, storing, and accessing collections of data. They provide efficient ways to manage information based on its characteristics and intended use.they are imp because Choosing the right data structure significantly impacts the efficiency and performance of your program."
   ]
  },
  {
   "cell_type": "markdown",
   "id": "ef84bd7f-df7c-41d5-9b24-fc0659cd3a46",
   "metadata": {},
   "source": [
    "**2. Explain the difference between mutable and immutable data types with examples.**\n",
    "- Mutable data type can be changed after creation,while immutable data type cannot changed after creation.\n",
    "- Mutable : list,sets,dictionary\n",
    "- Immutable : tuples, string,integers"
   ]
  },
  {
   "cell_type": "markdown",
   "id": "4d603d4a-8623-4bc6-a596-90ff585b0e47",
   "metadata": {},
   "source": [
    "**3. What are the main differences between lists and tuples in Python?**\n",
    "- lists are mutable,ordered collections of items,while tuples are immutable ,ordered collection.\n",
    "- list use square brackets[ ]\n",
    "- tuples use parentheses( )"
   ]
  },
  {
   "cell_type": "markdown",
   "id": "8a0df55e-d2d3-4983-bcc0-bf99e61665fe",
   "metadata": {},
   "source": [
    "**4. Describe how dictionaries store data.**\n",
    "- Dictionaries stores data as key-value pairs. each key is unique and maps to specific value. dictionary are unordered collection"
   ]
  },
  {
   "cell_type": "markdown",
   "id": "7fe95411-e509-488c-af2d-71cce0b88481",
   "metadata": {},
   "source": [
    "**5. Why might you use a set instead of a list in Python?**\n",
    "- Sets are used for storing unique elements and provide fast membership testing and mathematical operation like union and intersection."
   ]
  },
  {
   "cell_type": "markdown",
   "id": "7cb0f27d-e0d5-4610-a846-cf2bf339f27f",
   "metadata": {},
   "source": [
    "**6. What is a string in Python, and how is it different from a list?**\n",
    "- A string is an immutable sequence of characters.unlike lists,strings cannot be modified after creation."
   ]
  },
  {
   "cell_type": "markdown",
   "id": "76959f1d-8f3b-41d7-a9d1-0f208619eeb2",
   "metadata": {},
   "source": [
    "**7. How do tuples ensure data integrity in Python?**\n",
    "- Tuples ensure data intergrity by being immutable,meaning their contents cannot be modified after creation."
   ]
  },
  {
   "cell_type": "markdown",
   "id": "7838a7bb-a177-4a4d-b054-9800939806ce",
   "metadata": {},
   "source": [
    "**8. What is a hash table, and how does it relate to dictionaries in Python?**\n",
    "- A hash table is a data structure that maps keys to values using a hash function.in python, dictionaries are implemented as hash table."
   ]
  },
  {
   "cell_type": "markdown",
   "id": "0f4a4dc3-742a-43e2-b224-a5ec571932fd",
   "metadata": {},
   "source": [
    "**9. Can lists contain different data types in Python?**\n",
    "- Yes, list can contain different data types,including strings,integers,floats and others lists."
   ]
  },
  {
   "cell_type": "markdown",
   "id": "27c74472-2cae-4318-b773-b10024ff82c9",
   "metadata": {},
   "source": [
    "**10. Explain why strings are immutable in Python.**\n",
    "- Strings are immutable to ensure data integrity and security, as well as to improve performance by allowing string interning."
   ]
  },
  {
   "cell_type": "markdown",
   "id": "5a3ee479-7826-4238-9298-9cb395553fcc",
   "metadata": {},
   "source": [
    "**11. What advantages do dictionaries offer over lists for certain tasks?**\n",
    "- Dictionaries offer fast loolups,insertions,and deletion with an average time complexity O(1),making them ideal for task requiring efficient data retrieval."
   ]
  },
  {
   "cell_type": "markdown",
   "id": "3b9a6fb0-ff57-49b0-9152-afad1788849a",
   "metadata": {},
   "source": [
    "**12. Describe a scenario where using a tuple would be preferable over a list.**\n",
    "- Using a tuple is preferable when data should not be changed,such as representing a record or a constant collection of items."
   ]
  },
  {
   "cell_type": "markdown",
   "id": "7d0ffad5-c34d-40cc-b34b-6bcf90fcdc50",
   "metadata": {},
   "source": [
    "**13. How do sets handle duplicate values in Python?**\n",
    "- Sets automatically eliminate duplicate values,ensuring that each element is unique ."
   ]
  },
  {
   "cell_type": "markdown",
   "id": "b4818559-312c-448e-a42c-69b84592e3b6",
   "metadata": {},
   "source": [
    "**14. How does the \"in\" keyword work differently for lists and dictionaries?**\n",
    "- For lists,\"in\"checks if a key is present in the list.for dictionaries,\"in\"checks if key is present in the dictionary."
   ]
  },
  {
   "cell_type": "markdown",
   "id": "93e5bf47-6cca-4b26-bb91-7bc12e045164",
   "metadata": {},
   "source": [
    "**15. Can you modify the elements of a tuple? Explain why or why not.**\n",
    "- No,you cannot modify the elements of a tuple because tuples are immutable by desing."
   ]
  },
  {
   "cell_type": "markdown",
   "id": "74fa01a9-9fd1-4b79-8eb7-815d528e7c9d",
   "metadata": {},
   "source": [
    "**16. What is a nested dictionary, and give an example of its use case?**\n",
    "- A nested dictionary is a dictionary that contain another dictionary as its value "
   ]
  },
  {
   "cell_type": "markdown",
   "id": "cc5ffdc6-dafa-47b8-b805-be78371b1756",
   "metadata": {},
   "source": [
    "**17. Describe the time complexity of accessing elements in a dictionary.**\n",
    "- The average time complexing of accessing elements in a dictionary is O(1),making it very efficient."
   ]
  },
  {
   "cell_type": "markdown",
   "id": "8f0b1551-7ff4-4057-b253-f8809f8c6e3f",
   "metadata": {},
   "source": [
    "**18. In what situations are lists preferred over dictionaries?**\n",
    "- Lists are preferred when the order of elements matters or when you need to store a collection of item that may contain duplicates."
   ]
  },
  {
   "cell_type": "markdown",
   "id": "97ed3ef0-1935-45ba-9baa-ab5628f06002",
   "metadata": {},
   "source": [
    "**19. Why are dictionaries considered unordered, and how does that affect data retrieval?**\n",
    "- Dictionaries are considered unordered because they do not maintain the insertion order of elements.\n",
    "- this affects data retrieveval in that you cannot access elements by their index."
   ]
  },
  {
   "cell_type": "markdown",
   "id": "4c7958fe-c25c-4860-b6ac-9c15ddf3b629",
   "metadata": {},
   "source": [
    "**20. Explain the difference between a list and a dictionary in terms of data retrieval.**\n",
    "- Lists allow data retrieval by index,while dictionaries allow data retrieval by key.\n",
    "- list are ordered,while dictionaries are unordered."
   ]
  },
  {
   "cell_type": "markdown",
   "id": "a79c7da8-f8c1-41f4-aec8-ad989d30eb24",
   "metadata": {},
   "source": []
  },
  {
   "cell_type": "markdown",
   "id": "89b98dfb-c2f8-496a-b427-cb44043f98f7",
   "metadata": {},
   "source": [
    "# Practical Questions"
   ]
  },
  {
   "cell_type": "code",
   "execution_count": 4,
   "id": "824c7bf6-6ee0-4d94-a78f-25b13202d296",
   "metadata": {},
   "outputs": [
    {
     "name": "stdout",
     "output_type": "stream",
     "text": [
      "Diksha\n"
     ]
    }
   ],
   "source": [
    "#1. Write a code to create a string with your name and print it.\n",
    "name = \"Diksha\"\n",
    "print(name)"
   ]
  },
  {
   "cell_type": "code",
   "execution_count": 8,
   "id": "d9566a9f-c653-4444-83a1-3800b7e9418c",
   "metadata": {},
   "outputs": [
    {
     "data": {
      "text/plain": [
       "11"
      ]
     },
     "execution_count": 8,
     "metadata": {},
     "output_type": "execute_result"
    }
   ],
   "source": [
    "#2. Write a code to find the length of the string \"Hello World\n",
    "word = \"Hello World\"\n",
    "len(word)"
   ]
  },
  {
   "cell_type": "code",
   "execution_count": 10,
   "id": "d510fdb5-2271-41e6-a838-fa30ed66742b",
   "metadata": {},
   "outputs": [
    {
     "data": {
      "text/plain": [
       "'Pyt'"
      ]
     },
     "execution_count": 10,
     "metadata": {},
     "output_type": "execute_result"
    }
   ],
   "source": [
    "#3. Write a code to slice the first 3 characters from the string \"Python Programming\".\n",
    "string = \"Python Programming\"\n",
    "string[0:3]"
   ]
  },
  {
   "cell_type": "code",
   "execution_count": 17,
   "id": "78ef57ae-0b51-4dd7-85cc-f813fcd89ae1",
   "metadata": {},
   "outputs": [
    {
     "data": {
      "text/plain": [
       "'HELLO'"
      ]
     },
     "execution_count": 17,
     "metadata": {},
     "output_type": "execute_result"
    }
   ],
   "source": [
    "#4. Write a code to convert the string \"hello\" to uppercase.\n",
    "A = \"hello\"\n",
    "\"hello\".upper()"
   ]
  },
  {
   "cell_type": "code",
   "execution_count": 27,
   "id": "c18c1cd0-1cd5-44c0-a3bf-f4638cbd05e5",
   "metadata": {},
   "outputs": [
    {
     "data": {
      "text/plain": [
       "'i like orange'"
      ]
     },
     "execution_count": 27,
     "metadata": {},
     "output_type": "execute_result"
    }
   ],
   "source": [
    "#5. Write a code to replace the word \"apple\" with \"orange\" in the string \"l like apple\".\n",
    "string = \"i like apple\"\n",
    "string = string.replace(\"apple\",\"orange\")\n",
    "string"
   ]
  },
  {
   "cell_type": "code",
   "execution_count": 30,
   "id": "ff2c2a50-f8f8-4f56-86c1-dc37484bfc5a",
   "metadata": {},
   "outputs": [
    {
     "data": {
      "text/plain": [
       "[1, 2, 3, 4, 5]"
      ]
     },
     "execution_count": 30,
     "metadata": {},
     "output_type": "execute_result"
    }
   ],
   "source": [
    "#6. Write a code to create a list with numbers 1 to 5 and print it.\n",
    "num = list(range(1,6))\n",
    "num"
   ]
  },
  {
   "cell_type": "code",
   "execution_count": 32,
   "id": "244af65f-98bc-4ac3-84bb-501064c8dd78",
   "metadata": {},
   "outputs": [
    {
     "data": {
      "text/plain": [
       "[1, 2, 3, 4, 10]"
      ]
     },
     "execution_count": 32,
     "metadata": {},
     "output_type": "execute_result"
    }
   ],
   "source": [
    "#7. Write a code to append the number 10 to the list [1, 2, 3, 4].\n",
    "list1 = [1,2,3,4]\n",
    "list1.append(10)\n",
    "list1"
   ]
  },
  {
   "cell_type": "code",
   "execution_count": 33,
   "id": "d806916f-2c37-45a7-9027-3c4e449da624",
   "metadata": {},
   "outputs": [
    {
     "data": {
      "text/plain": [
       "[1, 2, 3, 4]"
      ]
     },
     "execution_count": 33,
     "metadata": {},
     "output_type": "execute_result"
    }
   ],
   "source": [
    "#8. Write a code to remove the number 3 from the list [1, 2, 3, 4, 5].\n",
    "list2 = [1,2,3,4,5]\n",
    "list2.remove(5)\n",
    "list2"
   ]
  },
  {
   "cell_type": "code",
   "execution_count": 36,
   "id": "923a8237-ef8a-4cb9-859a-db731a20dcf8",
   "metadata": {},
   "outputs": [
    {
     "data": {
      "text/plain": [
       "'b'"
      ]
     },
     "execution_count": 36,
     "metadata": {},
     "output_type": "execute_result"
    }
   ],
   "source": [
    "#9. Write a code to access the second element in the list ['a', 'b', 'c', 'd'].\n",
    "letter = ['a','b','c','d']\n",
    "letter[1]"
   ]
  },
  {
   "cell_type": "code",
   "execution_count": 37,
   "id": "b551329e-3706-4800-a64f-0ac795dffd52",
   "metadata": {},
   "outputs": [
    {
     "data": {
      "text/plain": [
       "[50, 40, 30, 20, 10]"
      ]
     },
     "execution_count": 37,
     "metadata": {},
     "output_type": "execute_result"
    }
   ],
   "source": [
    "#10. Write a code to reverse the list [10, 20, 30, 40, 50].\n",
    "num = [10,20,30,40,50]\n",
    "num.reverse()\n",
    "num"
   ]
  },
  {
   "cell_type": "code",
   "execution_count": 39,
   "id": "6ea88ce3-b302-4ef5-a94b-5417a94312c6",
   "metadata": {},
   "outputs": [
    {
     "data": {
      "text/plain": [
       "(100, 200, 300)"
      ]
     },
     "execution_count": 39,
     "metadata": {},
     "output_type": "execute_result"
    }
   ],
   "source": [
    "#11. Write a code to create a tuple with the elements 100, 200, 300 and print it.\n",
    "num = (100,200,300)\n",
    "num"
   ]
  },
  {
   "cell_type": "code",
   "execution_count": 41,
   "id": "f54fe923-5588-4b9f-8b1f-ecc0ec4cb6e1",
   "metadata": {},
   "outputs": [
    {
     "data": {
      "text/plain": [
       "'blue'"
      ]
     },
     "execution_count": 41,
     "metadata": {},
     "output_type": "execute_result"
    }
   ],
   "source": [
    "#12. Write a code to access the second-to-last element of the tuple ('red', 'green', 'blue', yellow').\n",
    "my_bag = ('red','green','blue','yello')\n",
    "my_bag[-2]"
   ]
  },
  {
   "cell_type": "code",
   "execution_count": 45,
   "id": "84873086-0371-44fa-af1d-830ef9307609",
   "metadata": {},
   "outputs": [
    {
     "data": {
      "text/plain": [
       "5"
      ]
     },
     "execution_count": 45,
     "metadata": {},
     "output_type": "execute_result"
    }
   ],
   "source": [
    "#13. Write a code to find the minimum number in the tuple (10, 20, 5, 15).\n",
    "code = (10,20,5,15)\n",
    "min(code)"
   ]
  },
  {
   "cell_type": "code",
   "execution_count": 55,
   "id": "e7b61836-d0ef-45f4-a498-ebd71dcbe632",
   "metadata": {},
   "outputs": [
    {
     "data": {
      "text/plain": [
       "1"
      ]
     },
     "execution_count": 55,
     "metadata": {},
     "output_type": "execute_result"
    }
   ],
   "source": [
    "#14. Write a code to find the index of the element \"cat\" in the tuple ('dog', 'cat', 'rabbit').\n",
    "animals = ('dog','cat','rabbit')\n",
    "(animals.index(\"cat\"))"
   ]
  },
  {
   "cell_type": "code",
   "execution_count": 56,
   "id": "64dc9afd-159b-4688-90dd-89940698f560",
   "metadata": {},
   "outputs": [
    {
     "data": {
      "text/plain": [
       "True"
      ]
     },
     "execution_count": 56,
     "metadata": {},
     "output_type": "execute_result"
    }
   ],
   "source": [
    "#15. Write a code to create a tuple containing three different fruits and check if \"kiwi\" is in it.\n",
    "fruit_bag = ('apple','kiwi','orange','banana')\n",
    "'kiwi' in fruit_bag"
   ]
  },
  {
   "cell_type": "code",
   "execution_count": 58,
   "id": "633fde16-b9d6-42bb-8a7a-a6f0e6e2b098",
   "metadata": {},
   "outputs": [
    {
     "data": {
      "text/plain": [
       "{'a', 'b', 'c'}"
      ]
     },
     "execution_count": 58,
     "metadata": {},
     "output_type": "execute_result"
    }
   ],
   "source": [
    "#16. Write a code to create a set with the elements 'a', 'b', 'c' and print it.\n",
    "my_set = {'a','b','c'}\n",
    "my_set"
   ]
  },
  {
   "cell_type": "code",
   "execution_count": 60,
   "id": "947a219b-c7a9-46dc-b269-79e5fb785d58",
   "metadata": {},
   "outputs": [
    {
     "data": {
      "text/plain": [
       "set()"
      ]
     },
     "execution_count": 60,
     "metadata": {},
     "output_type": "execute_result"
    }
   ],
   "source": [
    "#17. Write a code to clear all elements from the set {1, 2, 3, 4, 5}.\n",
    "set1 = {1,2,3,4,5}\n",
    "set1.clear()\n",
    "set1"
   ]
  },
  {
   "cell_type": "code",
   "execution_count": 62,
   "id": "2bb509be-6998-41f9-bb45-2dbfe48712b3",
   "metadata": {},
   "outputs": [
    {
     "data": {
      "text/plain": [
       "{1, 2, 3}"
      ]
     },
     "execution_count": 62,
     "metadata": {},
     "output_type": "execute_result"
    }
   ],
   "source": [
    "#18. Write a code to remove the element 4 from the set {1, 2, 3, 4}.\n",
    "num = {1,2,3,4}\n",
    "num.remove(4)\n",
    "num"
   ]
  },
  {
   "cell_type": "code",
   "execution_count": 64,
   "id": "35e46501-b1f5-47d5-9153-f4459997b1bb",
   "metadata": {},
   "outputs": [
    {
     "data": {
      "text/plain": [
       "{1, 2, 3, 4, 5}"
      ]
     },
     "execution_count": 64,
     "metadata": {},
     "output_type": "execute_result"
    }
   ],
   "source": [
    "#19. Write a code to find the union of two sets {1, 2, 3} and {3, 4, 5}.\n",
    "set1 = {1,2,3}\n",
    "set2 = {3,4,5}\n",
    "(set1).union(set2)"
   ]
  },
  {
   "cell_type": "code",
   "execution_count": 65,
   "id": "40c0131f-ff02-450b-a2e4-d06ca9a1c3cc",
   "metadata": {},
   "outputs": [
    {
     "data": {
      "text/plain": [
       "{3}"
      ]
     },
     "execution_count": 65,
     "metadata": {},
     "output_type": "execute_result"
    }
   ],
   "source": [
    "#20. Write a code to find the intersection of two sets {1, 2, 3} and {2, 3, 4}.\n",
    "set1 = {1,2,3}\n",
    "set2 = {3,4,5}\n",
    "(set1).intersection(set2)"
   ]
  },
  {
   "cell_type": "code",
   "execution_count": 67,
   "id": "dc8b8bd8-e6b6-451e-9b32-5653a60438aa",
   "metadata": {},
   "outputs": [
    {
     "data": {
      "text/plain": [
       "{'name': 'Diksha', 'age': 21, 'city': 'Kolhapur'}"
      ]
     },
     "execution_count": 67,
     "metadata": {},
     "output_type": "execute_result"
    }
   ],
   "source": [
    "#21. Write a code to create a dictionary with the keys \"name\", \"age\", and \"city\", and print it.\n",
    "my_dict = {\"name\":\"Diksha\",\"age\":21,\"city\":\"Kolhapur\"}\n",
    "my_dict"
   ]
  },
  {
   "cell_type": "code",
   "execution_count": 71,
   "id": "17f2447e-e1d6-436b-9044-e0280a789504",
   "metadata": {},
   "outputs": [
    {
     "data": {
      "text/plain": [
       "{'name': 'Jonh', 'age': 25, 'Country': 'USA'}"
      ]
     },
     "execution_count": 71,
     "metadata": {},
     "output_type": "execute_result"
    }
   ],
   "source": [
    "#22. Write a code to add a new key-value pair \"country\": \"USA\" to the dictionary {'name': 'John', 'age': 25}.\n",
    "my_dict = {\"name\":\"Jonh\",\"age\":25}\n",
    "my_dict[\"Country\"] = \"USA\"\n",
    "my_dict"
   ]
  },
  {
   "cell_type": "code",
   "execution_count": 72,
   "id": "dc0ec7ca-b8aa-4fe3-8a52-3e510a41b398",
   "metadata": {},
   "outputs": [
    {
     "data": {
      "text/plain": [
       "'Alice'"
      ]
     },
     "execution_count": 72,
     "metadata": {},
     "output_type": "execute_result"
    }
   ],
   "source": [
    "#23. Write a code to access the value associated with the key \"name\" in the dictionary {'name': 'Alice', 'age': 30}\n",
    "info = {\"name\":\"Alice\",\"age\":30}\n",
    "info[\"name\"]"
   ]
  },
  {
   "cell_type": "code",
   "execution_count": 75,
   "id": "61de3b80-8d71-4fb3-8fc9-808eaf01763a",
   "metadata": {},
   "outputs": [
    {
     "data": {
      "text/plain": [
       "{'name': 'Bob', 'city': 'New york'}"
      ]
     },
     "execution_count": 75,
     "metadata": {},
     "output_type": "execute_result"
    }
   ],
   "source": [
    "#24. Write a code to remove the key \"age\" from the dictionary {'name': 'Bob', 'age': 22, 'city': 'New York'}.\n",
    "info = {'name':'Bob','age':22,'city':'New york'}\n",
    "del info['age']\n",
    "info"
   ]
  },
  {
   "cell_type": "code",
   "execution_count": 76,
   "id": "f8621925-37e0-46f6-9238-993309d4285d",
   "metadata": {},
   "outputs": [
    {
     "data": {
      "text/plain": [
       "True"
      ]
     },
     "execution_count": 76,
     "metadata": {},
     "output_type": "execute_result"
    }
   ],
   "source": [
    "#25. Write a code to check if the key \"city\" exists in the dictionary {'name: 'Alice', 'city': 'Paris'}.\n",
    "dict1 = {'name':'Alice','city':'Paris'}\n",
    "'city' in dict1"
   ]
  },
  {
   "cell_type": "code",
   "execution_count": 78,
   "id": "52163d79-b2f7-4048-a92f-a51781cdaabc",
   "metadata": {},
   "outputs": [
    {
     "name": "stdout",
     "output_type": "stream",
     "text": [
      "[1, 2, 3]\n",
      "(4, 5)\n",
      "{'name': 'diksha', 'age': 21}\n"
     ]
    }
   ],
   "source": [
    "#26. Write a code to create a list, a tuple, and a dictionary, and print them all.\n",
    "my_list = [1,2,3]\n",
    "my_tuple = (4,5)\n",
    "my_dict = {'name':'diksha','age':21}\n",
    "print(my_list)\n",
    "print(my_tuple)\n",
    "print(my_dict)"
   ]
  },
  {
   "cell_type": "code",
   "execution_count": 80,
   "id": "0153f4a2-a4d6-4be9-be2a-0733572f3f42",
   "metadata": {},
   "outputs": [
    {
     "name": "stdout",
     "output_type": "stream",
     "text": [
      "[18, 19, 55, 89, 98]\n"
     ]
    }
   ],
   "source": [
    "#27. Write a code to create a list of 5 random numbers between 1 and 100, sort it in ascending order, and print the result.(replaced)\n",
    "import random\n",
    "my_list = random.sample(range(1,101),5)\n",
    "my_list.sort()\n",
    "print(my_list)"
   ]
  },
  {
   "cell_type": "code",
   "execution_count": 81,
   "id": "a2affdde-4fbd-405b-b3c7-24d22aabf405",
   "metadata": {},
   "outputs": [
    {
     "data": {
      "text/plain": [
       "'kiwi'"
      ]
     },
     "execution_count": 81,
     "metadata": {},
     "output_type": "execute_result"
    }
   ],
   "source": [
    "#28. Write a code to create a list with strings and print the element at the third index.\n",
    "fruit = ['apple','orange','kiwi','banana']\n",
    "fruit[2]"
   ]
  },
  {
   "cell_type": "code",
   "execution_count": 87,
   "id": "430f6d9d-7bed-4007-ac10-88273e473142",
   "metadata": {},
   "outputs": [
    {
     "data": {
      "text/plain": [
       "{'a': 24, 'b': 15, 'name': 'diksha', 'city': 'kolhapur'}"
      ]
     },
     "execution_count": 87,
     "metadata": {},
     "output_type": "execute_result"
    }
   ],
   "source": [
    "#29. Write a code to combine two dictionaries into one and print the result.\n",
    "dict1 = {'a':24,'b':15}\n",
    "dict2 = {'name':'diksha','city':'kolhapur'}\n",
    "combined_dict = {**dict1,**dict2}\n",
    "combined_dict"
   ]
  },
  {
   "cell_type": "code",
   "execution_count": 89,
   "id": "e097ee28-1b4c-46d2-bb0a-38159b75fc76",
   "metadata": {},
   "outputs": [
    {
     "data": {
      "text/plain": [
       "{1, 2, 3, 4, 10}"
      ]
     },
     "execution_count": 89,
     "metadata": {},
     "output_type": "execute_result"
    }
   ],
   "source": [
    "#30. Write a code to convert a list of strings into a set.\n",
    "lis1 = ['apple','orange','banana','lime']\n",
    "list1 = set(list1)\n",
    "list1"
   ]
  }
 ],
 "metadata": {
  "kernelspec": {
   "display_name": "Python 3 (ipykernel)",
   "language": "python",
   "name": "python3"
  },
  "language_info": {
   "codemirror_mode": {
    "name": "ipython",
    "version": 3
   },
   "file_extension": ".py",
   "mimetype": "text/x-python",
   "name": "python",
   "nbconvert_exporter": "python",
   "pygments_lexer": "ipython3",
   "version": "3.13.5"
  }
 },
 "nbformat": 4,
 "nbformat_minor": 5
}
