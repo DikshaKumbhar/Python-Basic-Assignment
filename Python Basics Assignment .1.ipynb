{
 "cells": [
  {
   "cell_type": "markdown",
   "id": "77e66938-6938-40b5-8db0-5b8f516e4c37",
   "metadata": {},
   "source": [
    "# Assingment"
   ]
  },
  {
   "cell_type": "markdown",
   "id": "d081e33e-37cf-4fde-aa99-a3a93ce38fba",
   "metadata": {},
   "source": [
    "# Python Basics Theory Questions"
   ]
  },
  {
   "cell_type": "markdown",
   "id": "cec68d4b-e29e-4a41-a124-c85e9244d8ac",
   "metadata": {},
   "source": [
    "**Question 1 : What is python,why is it popular ?**\n",
    "- **Ans:** Python is a formal programming language for creating instruction for a computer to follow,it's popular because it's easy to learn,has large community.\n"
   ]
  },
  {
   "cell_type": "markdown",
   "id": "8372a3ca-c14f-4941-857d-a389742a7241",
   "metadata": {},
   "source": [
    "**Question 2 : What is an interpreter in python?**\n",
    "- **Ans:** an interpreter is a program that reads and exeutes code line by line."
   ]
  },
  {
   "cell_type": "markdown",
   "id": "e415919e-b81c-48d3-8797-55b2f7b000e6",
   "metadata": {},
   "source": [
    "**Question 3 : What are pre-defined keywords in python?**\n",
    "- **Ans:** Keywords are reserved words in python that have special meanings and cannot be used as identifiers (variable name,function name etc.)"
   ]
  },
  {
   "cell_type": "markdown",
   "id": "d37aac62-3895-4141-8a69-7551bee74a57",
   "metadata": {},
   "source": [
    "**Question 4 :Can keywords be used as variable names?**\n",
    "- **Ans:** No, python keywords cannot be used as variable names because they are reserved for specific language function and also python keywords are case sensitive."
   ]
  },
  {
   "cell_type": "markdown",
   "id": "2a35fd0a-0d1a-4921-aa6f-0a4ae2259043",
   "metadata": {},
   "source": [
    "**Question 5: What is mutability in python?**\n",
    "- **Ans:** mutability means the value of an object can be changed after it is created,mutable object such as list and dicotionary can be modified after creation."
   ]
  },
  {
   "cell_type": "markdown",
   "id": "f4a4a089-3776-41de-92ea-1ea47ca158d9",
   "metadata": {},
   "source": [
    "**Question 6: Why are list mutable,but tuple are immutable?**\n",
    "- **Ans:** List can be modified after creation like adding, removing or changing items, while tuples do not modified after creation thats why immutable objects,such as tuple ."
   ]
  },
  {
   "cell_type": "markdown",
   "id": "1a3874b3-6c43-4261-8199-4e1a84e07e3c",
   "metadata": {},
   "source": [
    "**Question 7: What is the difference between == and is operator in python?**\n",
    "- **Ans:** \"==\"is comparison operator is checks if two values are equal and \"is\" is identity operator is checks if two variables point to the same object in memory."
   ]
  },
  {
   "cell_type": "markdown",
   "id": "543e0b10-0d9c-4f79-8fe1-84cbee1c7589",
   "metadata": {},
   "source": [
    "**Question 8: What are logical operators in python?**\n",
    "- **Ans:** Logical operator are used to combine conditional statement such as and,or ,not"
   ]
  },
  {
   "cell_type": "markdown",
   "id": "aeace1d6-7a21-4e89-bf82-db556084c91a",
   "metadata": {},
   "source": [
    "**Question 9: What is type casting in python?**\n",
    "- **Ans:** Type casting also referred to as type conversion, is the process of changing one data type to another in python."
   ]
  },
  {
   "cell_type": "markdown",
   "id": "b49b98fa-05c1-4e65-b376-2570924e21c4",
   "metadata": {},
   "source": [
    "**Question 10: What is the difference between implicit and explicit type casting?**\n",
    "- **Ans:** Implicit is done automatically by the compiler and explicit is done manually by the programmer "
   ]
  },
  {
   "cell_type": "markdown",
   "id": "ede9774d-8fff-49bd-93f4-60a78e793996",
   "metadata": {},
   "source": [
    "**Question 11: What is the purpose of conditional statement in python?**\n",
    "- **Ans:** They allow decision making in code using conditions (e.g,if,elife,else)"
   ]
  },
  {
   "cell_type": "markdown",
   "id": "2e3caf17-f120-4f5a-a3da-2315859c4d4d",
   "metadata": {},
   "source": [
    "**Question 12: How does the elif statement work?**\n",
    "- **Ans:** elif (else if) lets you check multiple conditions after the first if.It runs only if the previous conditions are false."
   ]
  },
  {
   "cell_type": "markdown",
   "id": "b9212fe6-484f-416e-8d9b-fdf1f3a658c9",
   "metadata": {},
   "source": [
    "**Question 13: What is difference between for and while loops?**\n",
    "- **Ans:** \"for\" is loops are used when you know how many times to loop,while \"while\" loop are used for executing code until a specified condition becomes false"
   ]
  },
  {
   "cell_type": "markdown",
   "id": "2db85886-773b-44c3-bee0-1ff0fb95d96d",
   "metadata": {},
   "source": [
    "**Question 14: Describe a scenario where a while loop is more suitable than a for loop.**\n",
    "- **Ans:** Reading user input until they type \"exit\". you don't know how many times it will repeat perfect for a while loop.\n",
    "- for loop is fixed repetition and while loop is condition based repetition"
   ]
  },
  {
   "cell_type": "code",
   "execution_count": null,
   "id": "501734a5-8faf-433e-be10-979521e24d1b",
   "metadata": {},
   "outputs": [],
   "source": []
  },
  {
   "cell_type": "markdown",
   "id": "9aed2a6f-cec7-4291-8d86-99209ffa681e",
   "metadata": {},
   "source": [
    "# Practical Questions"
   ]
  },
  {
   "cell_type": "markdown",
   "id": "265c140f-a574-4233-8f2e-1208e1e43869",
   "metadata": {},
   "source": [
    "**Question 1: Write a python to print\"Hello,World!\"**\n",
    "- **Ans:**"
   ]
  },
  {
   "cell_type": "code",
   "execution_count": 5,
   "id": "3fd92414-6a31-452d-8f4e-759a20d0a68f",
   "metadata": {},
   "outputs": [
    {
     "name": "stdout",
     "output_type": "stream",
     "text": [
      "Hello,World!\n"
     ]
    }
   ],
   "source": [
    "print(\"Hello,World!\")"
   ]
  },
  {
   "cell_type": "markdown",
   "id": "7a498eb2-8bfe-4cce-80da-010da4e757fa",
   "metadata": {},
   "source": [
    "**Question 2: Write a python program that displays your name and age**\n",
    "- **Ans:**"
   ]
  },
  {
   "cell_type": "code",
   "execution_count": 9,
   "id": "2945b5f8-0c71-4f7a-a230-8029e2119c76",
   "metadata": {},
   "outputs": [
    {
     "name": "stdout",
     "output_type": "stream",
     "text": [
      "name: Diksha\n",
      "age: 21\n"
     ]
    }
   ],
   "source": [
    "name = \"Diksha\"\n",
    "age = 21\n",
    "print(\"name:\",name)\n",
    "print(\"age:\",age)"
   ]
  },
  {
   "cell_type": "markdown",
   "id": "8e250fc7-e9ee-4cce-9a97-3fa4e32f5f37",
   "metadata": {},
   "source": [
    "**Question 3: Write code to print all the pre-defined keyword in python using the keyword library.**\n",
    "- **Ans:**"
   ]
  },
  {
   "cell_type": "code",
   "execution_count": 17,
   "id": "a48fb0b1-ae03-4a59-803d-793ac5d1b219",
   "metadata": {},
   "outputs": [
    {
     "name": "stdout",
     "output_type": "stream",
     "text": [
      "\n",
      "Here is a list of the Python keywords.  Enter any keyword to get more help.\n",
      "\n",
      "False               class               from                or\n",
      "None                continue            global              pass\n",
      "True                def                 if                  raise\n",
      "and                 del                 import              return\n",
      "as                  elif                in                  try\n",
      "assert              else                is                  while\n",
      "async               except              lambda              with\n",
      "await               finally             nonlocal            yield\n",
      "break               for                 not                 \n",
      "\n"
     ]
    }
   ],
   "source": [
    "help('keywords')"
   ]
  },
  {
   "cell_type": "markdown",
   "id": "92090319-1265-4f78-bf2e-83c482fad063",
   "metadata": {},
   "source": [
    "**Question 4: Write a program that checks if a given word is a python keyword.**\n",
    "- **Ans:**"
   ]
  },
  {
   "cell_type": "code",
   "execution_count": 19,
   "id": "e47a6153-d4ed-4368-9769-8447e43982d4",
   "metadata": {},
   "outputs": [
    {
     "name": "stdin",
     "output_type": "stream",
     "text": [
      "Enter a word:  True\n"
     ]
    },
    {
     "name": "stdout",
     "output_type": "stream",
     "text": [
      "True is a python keyword.\n"
     ]
    }
   ],
   "source": [
    "import keyword \n",
    "word = input(\"Enter a word: \")\n",
    "if keyword.iskeyword(word):\n",
    "    print(f\"{word} is a python keyword.\")\n",
    "else:\n",
    "    print(f\"{word} is not a python keyword.\")"
   ]
  },
  {
   "cell_type": "markdown",
   "id": "97c9a2d7-d478-474d-9129-08be400365d6",
   "metadata": {},
   "source": [
    "**Question 5: Create a list and tuple in python, and demonstrate how attempting to change an element works differently for each**\n",
    "- **Ans:**"
   ]
  },
  {
   "cell_type": "code",
   "execution_count": 17,
   "id": "89ea5e4c-ca46-4e4d-b413-10333316e159",
   "metadata": {},
   "outputs": [
    {
     "name": "stdout",
     "output_type": "stream",
     "text": [
      "original list: ['apple', 'orange', 'mango', 'banana']\n",
      "changed list: ['cheery', 'orange', 'mango', 'banana']\n"
     ]
    }
   ],
   "source": [
    "list = [\"apple\",\"orange\",\"mango\",\"banana\"]\n",
    "print(\"original list:\",list)\n",
    "list[0] = \"cheery\"\n",
    "print(\"changed list:\",list)"
   ]
  },
  {
   "cell_type": "code",
   "execution_count": 19,
   "id": "a4ced12c-51d6-4fe0-adfb-8cf9a89b9c5b",
   "metadata": {},
   "outputs": [
    {
     "ename": "SyntaxError",
     "evalue": "cannot assign to function call here. Maybe you meant '==' instead of '='? (1833824357.py, line 2)",
     "output_type": "error",
     "traceback": [
      "  \u001b[36mCell\u001b[39m\u001b[36m \u001b[39m\u001b[32mIn[19]\u001b[39m\u001b[32m, line 2\u001b[39m\n\u001b[31m    \u001b[39m\u001b[31mtuple(3) = 21\u001b[39m\n    ^\n\u001b[31mSyntaxError\u001b[39m\u001b[31m:\u001b[39m cannot assign to function call here. Maybe you meant '==' instead of '='?\n"
     ]
    }
   ],
   "source": [
    "tuple = (15,24,3,2)\n",
    "tuple(3) = 21\n",
    "tuple"
   ]
  },
  {
   "cell_type": "markdown",
   "id": "085fb3b0-140a-4f2b-b935-af833ad344e3",
   "metadata": {},
   "source": [
    "**Question 6: Write a function to demonstrate the behavior of mutable and immutable arguments.**\n",
    "- **Ans:**"
   ]
  },
  {
   "cell_type": "code",
   "execution_count": 24,
   "id": "108aba50-51b6-4d06-91d5-c4ef541a5c49",
   "metadata": {},
   "outputs": [
    {
     "name": "stdout",
     "output_type": "stream",
     "text": [
      "list after modification: [1, 2, 3, 4]\n",
      "number after modification: 5\n"
     ]
    }
   ],
   "source": [
    "def modify_list(l):\n",
    "    l.append(4)\n",
    "def modify_num(n):\n",
    "    n = n + 10\n",
    "my_list = [1,2,3]\n",
    "my_num = 5\n",
    "modify_list(my_list)\n",
    "modify_num(my_num)\n",
    "print(\"list after modification:\",my_list)\n",
    "print(\"number after modification:\",my_num)"
   ]
  },
  {
   "cell_type": "markdown",
   "id": "428420df-6508-46d0-a9cb-1b2bc2ff0b21",
   "metadata": {},
   "source": [
    "**Question 7: Write a program that performs basic arithmetic operations on two user-input numbers.**\n",
    "- **Ans:**"
   ]
  },
  {
   "cell_type": "code",
   "execution_count": 1,
   "id": "d82aab38-95fe-485a-97b8-4060f51cfc94",
   "metadata": {},
   "outputs": [
    {
     "name": "stdin",
     "output_type": "stream",
     "text": [
      "Enter first number:  100\n",
      "Enter second number:  5\n"
     ]
    },
    {
     "name": "stdout",
     "output_type": "stream",
     "text": [
      "Sum: 105\n",
      "Substaction: 95\n",
      "Multiplication: 500\n",
      "Division: 20.0\n"
     ]
    }
   ],
   "source": [
    "a = int(input(\"Enter first number: \"))\n",
    "b = int(input(\"Enter second number: \"))\n",
    "\n",
    "print(\"Sum:\",a + b)\n",
    "print(\"Substaction:\",a - b)\n",
    "print(\"Multiplication:\",a * b)\n",
    "print(\"Division:\",a / b)\n"
   ]
  },
  {
   "cell_type": "markdown",
   "id": "4d7835d2-5d82-4865-ba9f-cce3dd7ac394",
   "metadata": {},
   "source": [
    "**Question 8: Write a program to demonstrate the use of logical operators.**\n",
    "- **Ans:**"
   ]
  },
  {
   "cell_type": "code",
   "execution_count": 9,
   "id": "1ce3ea26-a0ab-40f2-b91d-c057c0e48cc9",
   "metadata": {},
   "outputs": [
    {
     "name": "stdout",
     "output_type": "stream",
     "text": [
      "True\n",
      "False\n",
      "True\n",
      "False\n",
      "True\n",
      "False\n",
      "True\n"
     ]
    }
   ],
   "source": [
    "a = 10 \n",
    "b = 5\n",
    "print(a > 5)\n",
    "print(a < 5)\n",
    "print(b<10)\n",
    "print(b>10)\n",
    "print(a>5 and b<10)\n",
    "print(a<5 or b==10)\n",
    "print(not(a==b))"
   ]
  },
  {
   "cell_type": "markdown",
   "id": "0d9b666e-22e4-4698-97d0-c0a7240712fb",
   "metadata": {},
   "source": [
    "**Question 9: Write a python program to convert user input from string to integer,float and boolean types.**\n",
    "- **Ans:**"
   ]
  },
  {
   "cell_type": "code",
   "execution_count": 3,
   "id": "795618b2-646a-4dfe-b7eb-3b2dcabd536a",
   "metadata": {},
   "outputs": [
    {
     "name": "stdin",
     "output_type": "stream",
     "text": [
      "Enter a value:  21\n"
     ]
    },
    {
     "name": "stdout",
     "output_type": "stream",
     "text": [
      " integer: 21\n",
      " float: 21.0\n",
      " boolean: True\n"
     ]
    }
   ],
   "source": [
    "diksha_age = input(\"Enter a value: \")\n",
    "print(\" integer:\", int(diksha_age))\n",
    "print(\" float:\", float(diksha_age))\n",
    "print(\" boolean:\", bool(diksha_age))"
   ]
  },
  {
   "cell_type": "markdown",
   "id": "905a5fc0-a462-4bf8-b663-01b58c942d31",
   "metadata": {},
   "source": [
    "**Question 10: Write code to demonstrate type casting with list element.**\n",
    "- **Ans:**"
   ]
  },
  {
   "cell_type": "code",
   "execution_count": 32,
   "id": "c2bf989a-78b8-45ec-b4f4-4c7d84277e1e",
   "metadata": {},
   "outputs": [
    {
     "data": {
      "text/plain": [
       "'[5, 12, 15]'"
      ]
     },
     "execution_count": 32,
     "metadata": {},
     "output_type": "execute_result"
    }
   ],
   "source": [
    "a = [5,12,15]\n",
    "b = str(a)\n",
    "b"
   ]
  },
  {
   "cell_type": "code",
   "execution_count": null,
   "id": "b5c90479-879c-4f2b-9fec-bd73b5080063",
   "metadata": {},
   "outputs": [],
   "source": []
  },
  {
   "cell_type": "markdown",
   "id": "761e41b4-ecf9-4a73-88b4-a7423babd86b",
   "metadata": {},
   "source": [
    "**Question 11: Write a program that checks if a number is positive,negative,or zero.**\n",
    "- **Ans:**"
   ]
  },
  {
   "cell_type": "code",
   "execution_count": 48,
   "id": "85b5743f-9e40-4a89-b4d6-429c73bfc903",
   "metadata": {},
   "outputs": [
    {
     "name": "stdin",
     "output_type": "stream",
     "text": [
      "Enter a number:  5\n"
     ]
    },
    {
     "name": "stdout",
     "output_type": "stream",
     "text": [
      "negative\n"
     ]
    }
   ],
   "source": [
    "n = int(input(\"Enter a number: \"))\n",
    "if n > 10:\n",
    "    print(\"positive\")\n",
    "elif n < 10:\n",
    "    print(\"negative\")\n",
    "else:\n",
    "        print(\"zero\")"
   ]
  },
  {
   "cell_type": "markdown",
   "id": "192692e1-3e6c-40d6-9d66-f86f6a9ce2dc",
   "metadata": {},
   "source": [
    "**Question 12: Write a for loop to print numbers from 1 to 10.**\n",
    "- **Ans:**"
   ]
  },
  {
   "cell_type": "code",
   "execution_count": 68,
   "id": "a01a647f-de23-476d-a43e-31c072767e0d",
   "metadata": {},
   "outputs": [
    {
     "name": "stdout",
     "output_type": "stream",
     "text": [
      "0\n",
      "1\n",
      "2\n",
      "3\n",
      "4\n",
      "5\n",
      "6\n",
      "7\n",
      "8\n",
      "9\n",
      "10\n"
     ]
    }
   ],
   "source": [
    "for d in range(0,11):\n",
    "    print(d)"
   ]
  },
  {
   "cell_type": "markdown",
   "id": "912be4b1-bf43-4cf6-9e48-125c436b1ae4",
   "metadata": {},
   "source": [
    "**Question 13: Write a python program to find the sum of all even numbers between 1 and 50.**\n",
    "- **Ans:**"
   ]
  },
  {
   "cell_type": "code",
   "execution_count": 15,
   "id": "69e904af-5f29-4434-a05d-609313cf8de5",
   "metadata": {},
   "outputs": [
    {
     "name": "stdout",
     "output_type": "stream",
     "text": [
      "The sum of all even numbers is: 2\n",
      "The sum of all even numbers is: 6\n",
      "The sum of all even numbers is: 12\n",
      "The sum of all even numbers is: 20\n",
      "The sum of all even numbers is: 30\n",
      "The sum of all even numbers is: 42\n",
      "The sum of all even numbers is: 56\n",
      "The sum of all even numbers is: 72\n",
      "The sum of all even numbers is: 90\n",
      "The sum of all even numbers is: 110\n",
      "The sum of all even numbers is: 132\n",
      "The sum of all even numbers is: 156\n",
      "The sum of all even numbers is: 182\n",
      "The sum of all even numbers is: 210\n",
      "The sum of all even numbers is: 240\n",
      "The sum of all even numbers is: 272\n",
      "The sum of all even numbers is: 306\n",
      "The sum of all even numbers is: 342\n",
      "The sum of all even numbers is: 380\n",
      "The sum of all even numbers is: 420\n",
      "The sum of all even numbers is: 462\n",
      "The sum of all even numbers is: 506\n",
      "The sum of all even numbers is: 552\n",
      "The sum of all even numbers is: 600\n",
      "The sum of all even numbers is: 650\n"
     ]
    }
   ],
   "source": [
    "sum_even = 0\n",
    "for num in range(1,51):\n",
    "    if num % 2 == 0: \n",
    "        sum_even += num\n",
    "        print(\"The sum of all even numbers is:\",sum_even)"
   ]
  },
  {
   "cell_type": "markdown",
   "id": "1e731470-2cec-44f4-95ff-d389aab5dc72",
   "metadata": {},
   "source": [
    "**Question 14: Write a program to reverse a string using while loop.**\n",
    "- **Ans:**"
   ]
  },
  {
   "cell_type": "code",
   "execution_count": 21,
   "id": "3d04ef94-8e4f-4314-af35-c49dbcfca13f",
   "metadata": {},
   "outputs": [
    {
     "name": "stdout",
     "output_type": "stream",
     "text": [
      "reversed strings is: a\n",
      "reversed strings is: ah\n",
      "reversed strings is: ahs\n",
      "reversed strings is: ahsk\n",
      "reversed strings is: ahski\n",
      "reversed strings is: ahskiD\n"
     ]
    }
   ],
   "source": [
    "text = \"Diksha\"\n",
    "rev = \"\"\n",
    "i = len(text) - 1\n",
    "while i >= 0:\n",
    "    rev = rev + text[i]\n",
    "    i = i - 1\n",
    "    print(\"reversed strings is:\",rev)"
   ]
  },
  {
   "cell_type": "markdown",
   "id": "ba1370da-70d0-49b5-bb41-df0b951c9345",
   "metadata": {},
   "source": [
    "**Question 15: Write a python program to calculate the factorial of a number provided by the user a while loop**\n",
    "- **Ans:**"
   ]
  },
  {
   "cell_type": "code",
   "execution_count": 23,
   "id": "476c6779-0e11-4861-adbb-76e22722f2df",
   "metadata": {},
   "outputs": [
    {
     "name": "stdin",
     "output_type": "stream",
     "text": [
      "Enter a number:  15\n"
     ]
    },
    {
     "name": "stdout",
     "output_type": "stream",
     "text": [
      "Factorial: 1307674368000\n"
     ]
    }
   ],
   "source": [
    "n = int(input(\"Enter a number: \"))\n",
    "fact = 1\n",
    "while n > 0:\n",
    "    fact *= n\n",
    "    n -= 1\n",
    "print(\"Factorial:\",fact)"
   ]
  }
 ],
 "metadata": {
  "kernelspec": {
   "display_name": "Python 3 (ipykernel)",
   "language": "python",
   "name": "python3"
  },
  "language_info": {
   "codemirror_mode": {
    "name": "ipython",
    "version": 3
   },
   "file_extension": ".py",
   "mimetype": "text/x-python",
   "name": "python",
   "nbconvert_exporter": "python",
   "pygments_lexer": "ipython3",
   "version": "3.13.5"
  }
 },
 "nbformat": 4,
 "nbformat_minor": 5
}
