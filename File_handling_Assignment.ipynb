{
 "cells": [
  {
   "cell_type": "markdown",
   "id": "45f350f3-1960-44c5-9fd0-7f59c777ad6c",
   "metadata": {},
   "source": [
    "# Files handling basics Assignment\n",
    "# Theory Questions:"
   ]
  },
  {
   "cell_type": "markdown",
   "id": "50476aef-21d4-4037-9a47-6dc67a06c417",
   "metadata": {},
   "source": [
    "**1. What is the difference between interpreted and compiled languages?**\n",
    "- Interpreted language like python excute code line by line\n",
    "- Complied language like C, C++ translate the entire code into machine code before excution"
   ]
  },
  {
   "cell_type": "markdown",
   "id": "cb1f8930-67c3-4ac3-a8be-78615f0069dd",
   "metadata": {},
   "source": [
    "**2. What is exception handling in Python**\n",
    "- Exception handling in pyhton is done using try, except, else and finally blocks to handle runtime errors.\n",
    "- it prevents the program from crashing"
   ]
  },
  {
   "cell_type": "markdown",
   "id": "0e18b448-1787-4048-b290-fc572546b8ba",
   "metadata": {},
   "source": [
    "**3. What is the purpose of the finally block in exception handling?**\n",
    "- The finally blocks runs to matter what, even if an error occurs and is used to perform clean up action like closing files\n",
    "- it is always excutes"
   ]
  },
  {
   "cell_type": "markdown",
   "id": "ee56bb6b-6607-46e9-bf4c-1c6c24814141",
   "metadata": {},
   "source": [
    "**4. What is logging in Python?**\n",
    "- Logging is used to track event during program excution\n",
    "- it is helpful for debugging and monitoring"
   ]
  },
  {
   "cell_type": "markdown",
   "id": "c8af8ed6-0ece-48da-a54e-866cf5394cdd",
   "metadata": {},
   "source": [
    "**5. What is the significance of the __ del __ method in Python?**\n",
    "- The __ del __ method is a destructor called when an object is about to be free resource\n",
    "- it is aslo deleted element "
   ]
  },
  {
   "cell_type": "markdown",
   "id": "6a365399-5983-4cd9-b0be-693227acb340",
   "metadata": {},
   "source": [
    "**6. What is the difference between import and from ... import in Python**\n",
    "- import loads the entire module, while from...import lets you import specific function or classes"
   ]
  },
  {
   "cell_type": "markdown",
   "id": "5cd004fd-2760-4d2b-bd00-c22bc944ed13",
   "metadata": {},
   "source": [
    "**7. How can you handle multiple exceptions in Python?**\n",
    "- You can handle multiple exception using multiple except blocks or a single block with multiple exception types in a tuple\n",
    "- it is error type\n",
    "- multiple except"
   ]
  },
  {
   "cell_type": "markdown",
   "id": "d047ec51-fc79-491d-822e-1b5d45a7e8bb",
   "metadata": {},
   "source": [
    "**8. What is the purpose of the with statement when handling files in Python?**\n",
    "- The with statement is used for file handling to automatically manage file closing , even if errors occurs\n",
    "- it is automatically close"
   ]
  },
  {
   "cell_type": "markdown",
   "id": "c599fe0d-90e7-4ad0-a62c-4b86c01d78e0",
   "metadata": {},
   "source": [
    "**9. What is the difference between multithreading and multiprocessing?**\n",
    "- Multithreading runs threads in the same memory space.\n",
    "- Multiprocessing uses separate memory and is better for CPU- bound tasks"
   ]
  },
  {
   "cell_type": "markdown",
   "id": "dabf26b6-7073-4e71-901b-ee6ccb4f7555",
   "metadata": {},
   "source": [
    "**10. What are the advantages of using logging in a program?**\n",
    "- Logging helps track errors, monitor application behavior, and debug issue efficiently.\n",
    "- it helps find bugs"
   ]
  },
  {
   "cell_type": "markdown",
   "id": "87c0325d-8130-4484-96ff-bb72cb178cd0",
   "metadata": {},
   "source": [
    "**11. What is memory management in Python?**\n",
    "- Python uses automatic memory management with a build-in garbage collector to free unused memory\n",
    "- it control memory use"
   ]
  },
  {
   "cell_type": "markdown",
   "id": "deb2fa8f-2fa6-4154-a890-8bda8e54845c",
   "metadata": {},
   "source": [
    "**12. What are the basic steps involved in exception handling in Python?**\n",
    "- Use try to write risky code\n",
    "- except to catch errors\n",
    "- else to run code if no error and finally for cleanup"
   ]
  },
  {
   "cell_type": "markdown",
   "id": "de838c76-99a3-44d6-8036-aab48713d4b7",
   "metadata": {},
   "source": [
    "**13. Why is memory management important in Python?**\n",
    "- It avoide memory waste\n",
    "- it prevent memory errors\n",
    "- ensures better performance to the program"
   ]
  },
  {
   "cell_type": "markdown",
   "id": "f683cdcc-b705-48c4-ad5f-ba17384bf934",
   "metadata": {},
   "source": [
    "**14. What is the role of try and except in exception handling?**\n",
    "- Try block holds code that may cause an error, while except catches and handles the errror gracefully."
   ]
  },
  {
   "cell_type": "markdown",
   "id": "53d4efcd-68fd-40ec-a969-b1b373ba22a2",
   "metadata": {},
   "source": [
    "**15. How does Python's garbage collection system work?**\n",
    "- Python uses reference counting and a cyclic garbage to clean unused objects."
   ]
  },
  {
   "cell_type": "markdown",
   "id": "653c4e55-595c-4ad1-8202-ca4847e81bbc",
   "metadata": {},
   "source": [
    "**16. What is the purpose of the else block in exception handling?**\n",
    "- The else block runs only if the try block succeed without any exceptions."
   ]
  },
  {
   "cell_type": "markdown",
   "id": "2e169092-52b4-4750-9def-8f20f57b4bea",
   "metadata": {},
   "source": [
    "**17. What are the common logging levels in Python?**\n",
    "- Python has logging levels like DEBUG, INFO, WARNING, ERROR and CRITICLE to indicate severity\n",
    "- higher level mean serious issues"
   ]
  },
  {
   "cell_type": "markdown",
   "id": "32aa02e6-cbf6-4767-a6c6-d7ae8fee55f4",
   "metadata": {},
   "source": [
    "**18. What is the difference between os.fork() and multiprocessing in Python?**\n",
    "- os.fork() creates  a child process while multiprocessing works cross-platform and is easier to manage."
   ]
  },
  {
   "cell_type": "markdown",
   "id": "e133297f-b98b-44fd-8759-f2a729a598eb",
   "metadata": {},
   "source": [
    "**19. What is the importance of closing a file in Python?**\n",
    "- It saves data\n",
    "- use close() or with\n",
    "- closing a file releases system resource and prevents data corruption or memory leaks."
   ]
  },
  {
   "cell_type": "markdown",
   "id": "4d92e989-bf24-46bf-8b99-b2ae8f926a4f",
   "metadata": {},
   "source": [
    "**20. What is the difference between file.read() and file.readline() in Python?**\n",
    "- file.read() reads the entire file at once\n",
    "- file.reading() reads one line at a time."
   ]
  },
  {
   "cell_type": "markdown",
   "id": "93d8b09c-2c43-4a1a-9d46-6743b291d870",
   "metadata": {},
   "source": [
    "**21. What is the logging module in Python used for?**\n",
    "- The logging module is used to  log messages with different severity levels to files or console."
   ]
  },
  {
   "cell_type": "markdown",
   "id": "bf594469-bb33-496f-b01f-a30bb940f370",
   "metadata": {},
   "source": [
    "**22. What is the os module in Python used for in file handling?**\n",
    "- The os module allows file handling operations like file removal, path navigation and directory creation"
   ]
  },
  {
   "cell_type": "markdown",
   "id": "1733158f-41a9-4c2a-bd0a-7fe9188ad1df",
   "metadata": {},
   "source": [
    "**23. What are the challenges associated with memory management in Python?**\n",
    "- Challenges include memory leaks, circular refereces and managing large datasets efficiently."
   ]
  },
  {
   "cell_type": "markdown",
   "id": "fbf234ca-85f1-4881-bde6-4f96e6d1bd81",
   "metadata": {},
   "source": [
    "**24. How do you raise an exception manually in Python**\n",
    "- Use the raise keyword to throw exceptions intentionally during code execution"
   ]
  },
  {
   "cell_type": "markdown",
   "id": "30c961b1-12d3-4ecc-97e5-7bfec661bf75",
   "metadata": {},
   "source": [
    "**25. Why is it important to use multithreading in certain applications\n",
    "- Multithreading improves apllication performce and responsiveness, especially in l/O-bound taks"
   ]
  },
  {
   "cell_type": "code",
   "execution_count": null,
   "id": "22fcac8b-fa0d-4b6c-834b-78a91cf05e5d",
   "metadata": {},
   "outputs": [],
   "source": []
  },
  {
   "cell_type": "markdown",
   "id": "ebc41ca7-384c-4b17-a1f6-e7971ad14ab8",
   "metadata": {},
   "source": [
    "# Practical Questions"
   ]
  },
  {
   "cell_type": "code",
   "execution_count": 10,
   "id": "bc2bf167-d782-41b7-a342-406457f940e6",
   "metadata": {},
   "outputs": [],
   "source": [
    "#1. How can you open a file for writing in Python and write a string to it?\n",
    "file = open(\"files.txt\", \"w\")\n",
    "file.write('This is my first line\\n')\n",
    "file.write('My name is diksha kumbhar\\n')\n",
    "file.write('am from kolhapur\\n')\n",
    "file.write('am 21 year old\\n')\n",
    "file.close()"
   ]
  },
  {
   "cell_type": "code",
   "execution_count": 14,
   "id": "52f130a1-3d2f-46bb-8ab2-115304e93c8f",
   "metadata": {},
   "outputs": [],
   "source": [
    "##2. Write a Python program to read the contents of a file and print each line.\n",
    "file = open(\"files.txt\", \"w\")\n",
    "file.write('This is my first line\\n')\n",
    "file.write('My name is Diksha Kumbhar\\n')\n",
    "file.write('I am from kolhapur\\n')\n",
    "file.write('Learning Data anaylatics course\\n')\n",
    "file.write('This is my last line')\n",
    "file.close()"
   ]
  },
  {
   "cell_type": "code",
   "execution_count": 13,
   "id": "062f17ed-732c-45f8-b989-71af2310783b",
   "metadata": {},
   "outputs": [],
   "source": [
    "file = open(\"files.txt\", \"r\")"
   ]
  },
  {
   "cell_type": "code",
   "execution_count": 14,
   "id": "4a9f9182-fd8a-4ad9-8958-1acc3a141de9",
   "metadata": {},
   "outputs": [
    {
     "name": "stdout",
     "output_type": "stream",
     "text": [
      "This is my first line\n",
      "\n",
      "My name is Diksha Kumbhar\n",
      "\n",
      "I am from kolhapur\n",
      "\n",
      "Learning Data anaylatics course\n",
      "\n",
      "This is my last line\n"
     ]
    }
   ],
   "source": [
    "for i in file:\n",
    "    print(i)"
   ]
  },
  {
   "cell_type": "code",
   "execution_count": 9,
   "id": "ee39fd03-8633-4ef4-9483-830b90aea91c",
   "metadata": {},
   "outputs": [
    {
     "ename": "FileNotFoundError",
     "evalue": "[Errno 2] No such file or directory: 'data.txt'",
     "output_type": "error",
     "traceback": [
      "\u001b[31m---------------------------------------------------------------------------\u001b[39m",
      "\u001b[31mFileNotFoundError\u001b[39m                         Traceback (most recent call last)",
      "\u001b[36mCell\u001b[39m\u001b[36m \u001b[39m\u001b[32mIn[9]\u001b[39m\u001b[32m, line 2\u001b[39m\n\u001b[32m      1\u001b[39m \u001b[38;5;66;03m#3. How would you handle a case where the file doesn't exist while trying to open it for reading?\u001b[39;00m\n\u001b[32m----> \u001b[39m\u001b[32m2\u001b[39m file = \u001b[38;5;28;43mopen\u001b[39;49m\u001b[43m(\u001b[49m\u001b[33;43m\"\u001b[39;49m\u001b[33;43mdata.txt\u001b[39;49m\u001b[33;43m\"\u001b[39;49m\u001b[43m,\u001b[49m\u001b[43m \u001b[49m\u001b[33;43m\"\u001b[39;49m\u001b[33;43mr\u001b[39;49m\u001b[33;43m\"\u001b[39;49m\u001b[43m)\u001b[49m\n",
      "\u001b[36mFile \u001b[39m\u001b[32m~\\AppData\\Local\\Programs\\Python\\Python313\\Lib\\site-packages\\IPython\\core\\interactiveshell.py:327\u001b[39m, in \u001b[36m_modified_open\u001b[39m\u001b[34m(file, *args, **kwargs)\u001b[39m\n\u001b[32m    320\u001b[39m \u001b[38;5;28;01mif\u001b[39;00m file \u001b[38;5;129;01min\u001b[39;00m {\u001b[32m0\u001b[39m, \u001b[32m1\u001b[39m, \u001b[32m2\u001b[39m}:\n\u001b[32m    321\u001b[39m     \u001b[38;5;28;01mraise\u001b[39;00m \u001b[38;5;167;01mValueError\u001b[39;00m(\n\u001b[32m    322\u001b[39m         \u001b[33mf\u001b[39m\u001b[33m\"\u001b[39m\u001b[33mIPython won\u001b[39m\u001b[33m'\u001b[39m\u001b[33mt let you open fd=\u001b[39m\u001b[38;5;132;01m{\u001b[39;00mfile\u001b[38;5;132;01m}\u001b[39;00m\u001b[33m by default \u001b[39m\u001b[33m\"\u001b[39m\n\u001b[32m    323\u001b[39m         \u001b[33m\"\u001b[39m\u001b[33mas it is likely to crash IPython. If you know what you are doing, \u001b[39m\u001b[33m\"\u001b[39m\n\u001b[32m    324\u001b[39m         \u001b[33m\"\u001b[39m\u001b[33myou can use builtins\u001b[39m\u001b[33m'\u001b[39m\u001b[33m open.\u001b[39m\u001b[33m\"\u001b[39m\n\u001b[32m    325\u001b[39m     )\n\u001b[32m--> \u001b[39m\u001b[32m327\u001b[39m \u001b[38;5;28;01mreturn\u001b[39;00m \u001b[43mio_open\u001b[49m\u001b[43m(\u001b[49m\u001b[43mfile\u001b[49m\u001b[43m,\u001b[49m\u001b[43m \u001b[49m\u001b[43m*\u001b[49m\u001b[43margs\u001b[49m\u001b[43m,\u001b[49m\u001b[43m \u001b[49m\u001b[43m*\u001b[49m\u001b[43m*\u001b[49m\u001b[43mkwargs\u001b[49m\u001b[43m)\u001b[49m\n",
      "\u001b[31mFileNotFoundError\u001b[39m: [Errno 2] No such file or directory: 'data.txt'"
     ]
    }
   ],
   "source": [
    "#3. How would you handle a case where the file doesn't exist while trying to open it for reading?\n",
    "file = open(\"data.txt\", \"r\")"
   ]
  },
  {
   "cell_type": "code",
   "execution_count": 10,
   "id": "be9e8302-e558-4d94-946e-5a33bc757420",
   "metadata": {},
   "outputs": [
    {
     "name": "stdout",
     "output_type": "stream",
     "text": [
      "File not found. check the file name. [Errno 2] No such file or directory: 'data.txt'\n"
     ]
    }
   ],
   "source": [
    "try:\n",
    "    file = open(\"data.txt\", \"r\")\n",
    "except FileNotFoundError as a:\n",
    "    print(\"File not found. check the file name.\",a)"
   ]
  },
  {
   "cell_type": "code",
   "execution_count": 21,
   "id": "35fc4a2a-dd7f-4b36-92b2-1b73b7c2933a",
   "metadata": {},
   "outputs": [
    {
     "ename": "FileNotFoundError",
     "evalue": "[Errno 2] No such file or directory: 'name.txt'",
     "output_type": "error",
     "traceback": [
      "\u001b[31m---------------------------------------------------------------------------\u001b[39m",
      "\u001b[31mFileNotFoundError\u001b[39m                         Traceback (most recent call last)",
      "\u001b[36mCell\u001b[39m\u001b[36m \u001b[39m\u001b[32mIn[21]\u001b[39m\u001b[32m, line 2\u001b[39m\n\u001b[32m      1\u001b[39m \u001b[38;5;66;03m#4. Write a Python script that reads from one file and writes its content to another file.\u001b[39;00m\n\u001b[32m----> \u001b[39m\u001b[32m2\u001b[39m \u001b[38;5;28;01mwith\u001b[39;00m \u001b[38;5;28;43mopen\u001b[39;49m\u001b[43m(\u001b[49m\u001b[33;43m\"\u001b[39;49m\u001b[33;43mname.txt\u001b[39;49m\u001b[33;43m\"\u001b[39;49m\u001b[43m,\u001b[49m\u001b[43m \u001b[49m\u001b[33;43m\"\u001b[39;49m\u001b[33;43mr\u001b[39;49m\u001b[33;43m\"\u001b[39;49m\u001b[43m)\u001b[49m \u001b[38;5;28;01mas\u001b[39;00m source:\n\u001b[32m      3\u001b[39m     content = source.read()\n\u001b[32m      4\u001b[39m \u001b[38;5;28;01mwith\u001b[39;00m \u001b[38;5;28mopen\u001b[39m(\u001b[33m\"\u001b[39m\u001b[33mcopy.txt\u001b[39m\u001b[33m\"\u001b[39m, \u001b[33m\"\u001b[39m\u001b[33mw\u001b[39m\u001b[33m\"\u001b[39m) \u001b[38;5;28;01mas\u001b[39;00m destination:\n",
      "\u001b[36mFile \u001b[39m\u001b[32m~\\AppData\\Local\\Programs\\Python\\Python313\\Lib\\site-packages\\IPython\\core\\interactiveshell.py:327\u001b[39m, in \u001b[36m_modified_open\u001b[39m\u001b[34m(file, *args, **kwargs)\u001b[39m\n\u001b[32m    320\u001b[39m \u001b[38;5;28;01mif\u001b[39;00m file \u001b[38;5;129;01min\u001b[39;00m {\u001b[32m0\u001b[39m, \u001b[32m1\u001b[39m, \u001b[32m2\u001b[39m}:\n\u001b[32m    321\u001b[39m     \u001b[38;5;28;01mraise\u001b[39;00m \u001b[38;5;167;01mValueError\u001b[39;00m(\n\u001b[32m    322\u001b[39m         \u001b[33mf\u001b[39m\u001b[33m\"\u001b[39m\u001b[33mIPython won\u001b[39m\u001b[33m'\u001b[39m\u001b[33mt let you open fd=\u001b[39m\u001b[38;5;132;01m{\u001b[39;00mfile\u001b[38;5;132;01m}\u001b[39;00m\u001b[33m by default \u001b[39m\u001b[33m\"\u001b[39m\n\u001b[32m    323\u001b[39m         \u001b[33m\"\u001b[39m\u001b[33mas it is likely to crash IPython. If you know what you are doing, \u001b[39m\u001b[33m\"\u001b[39m\n\u001b[32m    324\u001b[39m         \u001b[33m\"\u001b[39m\u001b[33myou can use builtins\u001b[39m\u001b[33m'\u001b[39m\u001b[33m open.\u001b[39m\u001b[33m\"\u001b[39m\n\u001b[32m    325\u001b[39m     )\n\u001b[32m--> \u001b[39m\u001b[32m327\u001b[39m \u001b[38;5;28;01mreturn\u001b[39;00m \u001b[43mio_open\u001b[49m\u001b[43m(\u001b[49m\u001b[43mfile\u001b[49m\u001b[43m,\u001b[49m\u001b[43m \u001b[49m\u001b[43m*\u001b[49m\u001b[43margs\u001b[49m\u001b[43m,\u001b[49m\u001b[43m \u001b[49m\u001b[43m*\u001b[49m\u001b[43m*\u001b[49m\u001b[43mkwargs\u001b[49m\u001b[43m)\u001b[49m\n",
      "\u001b[31mFileNotFoundError\u001b[39m: [Errno 2] No such file or directory: 'name.txt'"
     ]
    }
   ],
   "source": [
    "#4. Write a Python script that reads from one file and writes its content to another file.\n",
    "with open(\"name.txt\", \"r\") as source:\n",
    "    content = source.read()\n",
    "with open(\"copy.txt\", \"w\") as destination:\n",
    "    destination.write(content)"
   ]
  },
  {
   "cell_type": "code",
   "execution_count": 23,
   "id": "a1ac690c-b3be-4dd2-b51e-bceba88b8fee",
   "metadata": {},
   "outputs": [
    {
     "ename": "ZeroDivisionError",
     "evalue": "division by zero",
     "output_type": "error",
     "traceback": [
      "\u001b[31m---------------------------------------------------------------------------\u001b[39m",
      "\u001b[31mZeroDivisionError\u001b[39m                         Traceback (most recent call last)",
      "\u001b[36mCell\u001b[39m\u001b[36m \u001b[39m\u001b[32mIn[23]\u001b[39m\u001b[32m, line 2\u001b[39m\n\u001b[32m      1\u001b[39m \u001b[38;5;66;03m#5. How would you catch and handle division by zero error in Python?\u001b[39;00m\n\u001b[32m----> \u001b[39m\u001b[32m2\u001b[39m num = \u001b[32;43m10\u001b[39;49m\u001b[43m/\u001b[49m\u001b[32;43m0\u001b[39;49m\n",
      "\u001b[31mZeroDivisionError\u001b[39m: division by zero"
     ]
    }
   ],
   "source": [
    "#5. How would you catch and handle division by zero error in Python?\n",
    "num = 10/0"
   ]
  },
  {
   "cell_type": "code",
   "execution_count": 25,
   "id": "0f56c46b-097a-41e0-8763-a8bcd7d423f3",
   "metadata": {},
   "outputs": [
    {
     "name": "stdout",
     "output_type": "stream",
     "text": [
      "Error: Division by zero is not allowed\n"
     ]
    }
   ],
   "source": [
    "try:\n",
    "    num = 10/0\n",
    "except ZeroDivisionError:\n",
    "    print(\"Error: Division by zero is not allowed\")"
   ]
  },
  {
   "cell_type": "code",
   "execution_count": 26,
   "id": "82a380f6-76e4-407a-9de0-984f479b66c1",
   "metadata": {},
   "outputs": [
    {
     "ename": "ZeroDivisionError",
     "evalue": "division by zero",
     "output_type": "error",
     "traceback": [
      "\u001b[31m---------------------------------------------------------------------------\u001b[39m",
      "\u001b[31mZeroDivisionError\u001b[39m                         Traceback (most recent call last)",
      "\u001b[36mCell\u001b[39m\u001b[36m \u001b[39m\u001b[32mIn[26]\u001b[39m\u001b[32m, line 1\u001b[39m\n\u001b[32m----> \u001b[39m\u001b[32m1\u001b[39m num = \u001b[32;43m10\u001b[39;49m\u001b[43m/\u001b[49m\u001b[32;43m0\u001b[39;49m\n",
      "\u001b[31mZeroDivisionError\u001b[39m: division by zero"
     ]
    }
   ],
   "source": [
    "#another use case\n",
    "num = 10/0"
   ]
  },
  {
   "cell_type": "code",
   "execution_count": 27,
   "id": "45bcc37b-7413-4831-9f67-1a36351df4c8",
   "metadata": {},
   "outputs": [
    {
     "name": "stdout",
     "output_type": "stream",
     "text": [
      "-1 0\n",
      "0 1\n",
      "1 2\n",
      "2 3\n",
      "3 4\n",
      "4 5\n",
      "5 6\n",
      "6 7\n",
      "7 8\n",
      "8 9\n",
      "9 10\n"
     ]
    }
   ],
   "source": [
    "for i in range(-1,10):\n",
    "    print(i, i+1)"
   ]
  },
  {
   "cell_type": "code",
   "execution_count": 28,
   "id": "707ca903-e2c6-420f-a131-7e4e954dfe25",
   "metadata": {},
   "outputs": [],
   "source": [
    "#6. Write a Python program that logs an error message to a log file when a division by zero exception occurs.\n",
    "import logging"
   ]
  },
  {
   "cell_type": "code",
   "execution_count": 35,
   "id": "3042502f-a918-4221-b95b-95f24f4c1061",
   "metadata": {},
   "outputs": [],
   "source": [
    "logging.basicConfig(filename = \"log.txt\", \n",
    "level=logging.ERROR)\n",
    "\n",
    "try:\n",
    "    a = 5/0\n",
    "except ZeroDivisionError:\n",
    "    logging.error(\"Division by zero error occurred.\")\n",
    "    #output in the log.txt file that is>> ERROR:root:Division by zero error occurred."
   ]
  },
  {
   "cell_type": "code",
   "execution_count": 58,
   "id": "fafb28b5-1df4-4e85-89d5-eaa213e85efe",
   "metadata": {},
   "outputs": [],
   "source": [
    "#7. How do you log information at different levels (INFO, ERROR, WARNING) in Python using the logging module?\n",
    "logging.basicConfig(filename = \"test_new.log\", \n",
    "                    level = logging.DEBUG)"
   ]
  },
  {
   "cell_type": "code",
   "execution_count": 59,
   "id": "d230fef6-aa9e-4f49-b094-5f429bac15af",
   "metadata": {},
   "outputs": [],
   "source": [
    "logging.debug(\"This msg is for debugging\")\n",
    "logging.info(\"This is info msg\")\n",
    "logging.warning(\"This is my warning msg\")\n",
    "logging.shutdown()"
   ]
  },
  {
   "cell_type": "code",
   "execution_count": 57,
   "id": "89f07d8d-2664-4474-9ad5-61d6a265e30e",
   "metadata": {},
   "outputs": [
    {
     "name": "stdout",
     "output_type": "stream",
     "text": [
      "This file doesn't exist:[Errno 2] No such file or directory: 'missingfile.text'\n"
     ]
    }
   ],
   "source": [
    "#8. Write a program to handle a file opening error using exception handling.\n",
    "try:\n",
    "    file = open('missingfile.text', 'r')\n",
    "except FileNotFoundError as e:\n",
    "    print(f\"This file doesn't exist:{e}\")"
   ]
  },
  {
   "cell_type": "code",
   "execution_count": 60,
   "id": "711044c6-0849-4c6e-86d1-b931d21d6958",
   "metadata": {},
   "outputs": [
    {
     "name": "stdout",
     "output_type": "stream",
     "text": [
      "My name is DikshaI have comleted gradutionNow taken addmision to Data analytics course in PW Skills\n",
      "['My name is DikshaI have comleted gradutionNow taken addmision to Data analytics course in PW Skills']\n"
     ]
    }
   ],
   "source": [
    "#9. How can you read a file line by line and store its content in a list in Python?\n",
    "try:\n",
    "    files = open(\"files.txt\", \"w\")\n",
    "    files.write(\"My name is Diksha\")\n",
    "    files.write(\"I have comleted gradution\")\n",
    "    files.write(\"Now taken addmision to Data analytics course in PW Skills\")\n",
    "    file.close()\n",
    "except Exception as e:\n",
    "    print(f\"Issue id: {e}\")\n",
    "else:\n",
    "    files = open(\"files.txt\", \"r\")\n",
    "    l = []\n",
    "    for i in files:\n",
    "        print(i)\n",
    "        l.append(i)\n",
    "file.close()\n",
    "print(l)"
   ]
  },
  {
   "cell_type": "code",
   "execution_count": 61,
   "id": "5e4c48cb-0a9a-4c2f-9f30-1c07ca33fc29",
   "metadata": {},
   "outputs": [
    {
     "name": "stdout",
     "output_type": "stream",
     "text": [
      "My name is Diksha\n"
     ]
    }
   ],
   "source": [
    "#10. How can you append data to an existing file in Python?\n",
    "with open(\"new1.txt\", \"a\") as file:\n",
    "    file.write(\"My name is Diksha\")\n",
    "with open(\"new1.txt\", \"r\") as file:\n",
    "    print(file.read())"
   ]
  },
  {
   "cell_type": "code",
   "execution_count": 66,
   "id": "d4a9fa7a-c0dc-4e19-85b8-583867f1c649",
   "metadata": {},
   "outputs": [],
   "source": [
    "#11. Write a Python program that uses a try-except block to handle an error when attempting to access a dictionary key that doesn't exist.\n",
    "my_info = {\n",
    "    \"Name\": \"Diksha\",\n",
    "    \"Education\": \" DA course\",\n",
    "    \"city\":\"Kolhapur\",\n",
    "}"
   ]
  },
  {
   "cell_type": "code",
   "execution_count": 71,
   "id": "bc4745dd-35b0-4613-8524-a29ca1c1d8bb",
   "metadata": {},
   "outputs": [
    {
     "name": "stdout",
     "output_type": "stream",
     "text": [
      "Error: 'age' key not found in the dictionary\n"
     ]
    }
   ],
   "source": [
    "try:\n",
    "    print(\"Age is:\",my_info[\"age\"])\n",
    "except KeyError:\n",
    "    print(\"Error: 'age' key not found in the dictionary\")"
   ]
  },
  {
   "cell_type": "code",
   "execution_count": 75,
   "id": "851b2f7d-fc74-4f6a-9e85-cd849f53535d",
   "metadata": {},
   "outputs": [
    {
     "ename": "ValueError",
     "evalue": "invalid literal for int() with base 10: 'Dikss_15'",
     "output_type": "error",
     "traceback": [
      "\u001b[31m---------------------------------------------------------------------------\u001b[39m",
      "\u001b[31mValueError\u001b[39m                                Traceback (most recent call last)",
      "\u001b[36mCell\u001b[39m\u001b[36m \u001b[39m\u001b[32mIn[75]\u001b[39m\u001b[32m, line 2\u001b[39m\n\u001b[32m      1\u001b[39m \u001b[38;5;66;03m#12. Write a program that demonstrates using multiple except blocks to handle different types of exceptions\u001b[39;00m\n\u001b[32m----> \u001b[39m\u001b[32m2\u001b[39m \u001b[38;5;28;43mint\u001b[39;49m\u001b[43m(\u001b[49m\u001b[33;43m'\u001b[39;49m\u001b[33;43mDikss_15\u001b[39;49m\u001b[33;43m'\u001b[39;49m\u001b[43m)\u001b[49m\n",
      "\u001b[31mValueError\u001b[39m: invalid literal for int() with base 10: 'Dikss_15'"
     ]
    }
   ],
   "source": [
    "#12. Write a program that demonstrates using multiple except blocks to handle different types of exceptions\n",
    "int('Dikss_15')"
   ]
  },
  {
   "cell_type": "code",
   "execution_count": 77,
   "id": "032e4054-9ddc-47ba-b58a-d1337d134e11",
   "metadata": {},
   "outputs": [
    {
     "name": "stdout",
     "output_type": "stream",
     "text": [
      "The string can not be converted to integer invalid literal for int() with base 10: 'Diksha_15'\n"
     ]
    }
   ],
   "source": [
    "try:\n",
    "    int('Diksha_15')\n",
    "except ValueError as e:\n",
    "    print('The string can not be converted to integer', e)"
   ]
  },
  {
   "cell_type": "code",
   "execution_count": 78,
   "id": "fc1ff698-3569-4117-b099-d53bd9854413",
   "metadata": {},
   "outputs": [],
   "source": [
    "#13. How would you check if a file exists before attempting to read it in Python?\n",
    "import os"
   ]
  },
  {
   "cell_type": "code",
   "execution_count": 79,
   "id": "f6c7085f-95de-49ab-92e3-01b240434b06",
   "metadata": {},
   "outputs": [
    {
     "name": "stdout",
     "output_type": "stream",
     "text": [
      "File does not exist.\n"
     ]
    }
   ],
   "source": [
    "file_path = \"ex.txt\"\n",
    "\n",
    "if os.path.exists(file_path):\n",
    "    with open(file_path):\n",
    "        content = file.read()\n",
    "        print(content)\n",
    "else:\n",
    "    print(\"File does not exist.\")"
   ]
  },
  {
   "cell_type": "code",
   "execution_count": 101,
   "id": "3a8352c9-0d90-4a64-a566-a4ec79f0e1d8",
   "metadata": {},
   "outputs": [],
   "source": [
    "#14. Write a program that uses the logging module to log both informational and error messages."
   ]
  },
  {
   "cell_type": "code",
   "execution_count": 114,
   "id": "ec015fa7-f921-49dc-a893-79402556137a",
   "metadata": {},
   "outputs": [],
   "source": [
    "import logging\n",
    "logging.basicConfig(file = \"file.log\",level = logging.INFO)\n",
    "logging.info(\"This is info regarding msg\")\n",
    "logging.error(\"Error as the info is not correct\")"
   ]
  },
  {
   "cell_type": "code",
   "execution_count": 111,
   "id": "e50171f8-156c-44ec-9dd3-61788c759a9d",
   "metadata": {},
   "outputs": [
    {
     "name": "stdout",
     "output_type": "stream",
     "text": [
      "File not found.\n"
     ]
    }
   ],
   "source": [
    "#15. Write a Python program that prints the content of a file and handles the case when the file is empty.\n",
    "try:\n",
    "    with open(\"my_file.txt\", \"r\") as file:\n",
    "        content = file.read()\n",
    "        if content:\n",
    "            print(content)\n",
    "        else:\n",
    "            print(\"The file is empty.\")\n",
    "except FileNotFoundError:\n",
    "    print(\"File not found.\")"
   ]
  },
  {
   "cell_type": "code",
   "execution_count": 117,
   "id": "c2831d3f-6ba9-4e79-b085-735d0c90cd49",
   "metadata": {},
   "outputs": [
    {
     "name": "stdout",
     "output_type": "stream",
     "text": [
      "File content:\n",
      "This is my first line\n",
      "My name is diksha kumbhar\n",
      "am from kolhapur\n",
      "am 21 year old\n",
      "\n"
     ]
    }
   ],
   "source": [
    "import os \n",
    "file_path = \"files.txt\"\n",
    "if os.path.exists(file_path):\n",
    "    with open(file_path, \"r\") as file:\n",
    "        content = file.read()\n",
    "        if content.strip() == \"\":\n",
    "            print(\"The file is empty\")\n",
    "        else:\n",
    "            print(\"File content:\")\n",
    "            print(content)\n",
    "else:\n",
    "    print(\"The file is does not exist:\",file_path)"
   ]
  },
  {
   "cell_type": "code",
   "execution_count": null,
   "id": "87b7274e-42e1-4027-89e6-e3da82ffe3cb",
   "metadata": {},
   "outputs": [],
   "source": [
    "#16. Demonstrate how to use memory profiling to check the memory usage of a small program."
   ]
  },
  {
   "cell_type": "code",
   "execution_count": 3,
   "id": "d12d0acc-0fec-4a68-9eb9-80c0e1b70055",
   "metadata": {},
   "outputs": [
    {
     "name": "stdout",
     "output_type": "stream",
     "text": [
      "The memory_profiler extension is already loaded. To reload it, use:\n",
      "  %reload_ext memory_profiler\n"
     ]
    }
   ],
   "source": [
    "%load_ext memory_profiler"
   ]
  },
  {
   "cell_type": "code",
   "execution_count": 4,
   "id": "6eb878c8-9ffd-4eeb-90b4-2f99b4a17fdc",
   "metadata": {},
   "outputs": [
    {
     "name": "stdout",
     "output_type": "stream",
     "text": [
      "ERROR: Could not find file C:\\Users\\Diksha\\AppData\\Local\\Temp\\ipykernel_19536\\3819385535.py\n"
     ]
    },
    {
     "data": {
      "text/plain": [
       "[0,\n",
       " 1,\n",
       " 2,\n",
       " 3,\n",
       " 4,\n",
       " 5,\n",
       " 6,\n",
       " 7,\n",
       " 8,\n",
       " 9,\n",
       " 10,\n",
       " 11,\n",
       " 12,\n",
       " 13,\n",
       " 14,\n",
       " 15,\n",
       " 16,\n",
       " 17,\n",
       " 18,\n",
       " 19,\n",
       " 20,\n",
       " 21,\n",
       " 22,\n",
       " 23,\n",
       " 24,\n",
       " 25,\n",
       " 26,\n",
       " 27,\n",
       " 28,\n",
       " 29,\n",
       " 30,\n",
       " 31,\n",
       " 32,\n",
       " 33,\n",
       " 34,\n",
       " 35,\n",
       " 36,\n",
       " 37,\n",
       " 38,\n",
       " 39,\n",
       " 40,\n",
       " 41,\n",
       " 42,\n",
       " 43,\n",
       " 44,\n",
       " 45,\n",
       " 46,\n",
       " 47,\n",
       " 48,\n",
       " 49,\n",
       " 50,\n",
       " 51,\n",
       " 52,\n",
       " 53,\n",
       " 54,\n",
       " 55,\n",
       " 56,\n",
       " 57,\n",
       " 58,\n",
       " 59,\n",
       " 60,\n",
       " 61,\n",
       " 62,\n",
       " 63,\n",
       " 64,\n",
       " 65,\n",
       " 66,\n",
       " 67,\n",
       " 68,\n",
       " 69,\n",
       " 70,\n",
       " 71,\n",
       " 72,\n",
       " 73,\n",
       " 74,\n",
       " 75,\n",
       " 76,\n",
       " 77,\n",
       " 78,\n",
       " 79,\n",
       " 80,\n",
       " 81,\n",
       " 82,\n",
       " 83,\n",
       " 84,\n",
       " 85,\n",
       " 86,\n",
       " 87,\n",
       " 88,\n",
       " 89,\n",
       " 90,\n",
       " 91,\n",
       " 92,\n",
       " 93,\n",
       " 94,\n",
       " 95,\n",
       " 96,\n",
       " 97,\n",
       " 98,\n",
       " 99,\n",
       " 100,\n",
       " 101,\n",
       " 102,\n",
       " 103,\n",
       " 104,\n",
       " 105,\n",
       " 106,\n",
       " 107,\n",
       " 108,\n",
       " 109,\n",
       " 110,\n",
       " 111,\n",
       " 112,\n",
       " 113,\n",
       " 114,\n",
       " 115,\n",
       " 116,\n",
       " 117,\n",
       " 118,\n",
       " 119,\n",
       " 120,\n",
       " 121,\n",
       " 122,\n",
       " 123,\n",
       " 124,\n",
       " 125,\n",
       " 126,\n",
       " 127,\n",
       " 128,\n",
       " 129,\n",
       " 130,\n",
       " 131,\n",
       " 132,\n",
       " 133,\n",
       " 134,\n",
       " 135,\n",
       " 136,\n",
       " 137,\n",
       " 138,\n",
       " 139,\n",
       " 140,\n",
       " 141,\n",
       " 142,\n",
       " 143,\n",
       " 144,\n",
       " 145,\n",
       " 146,\n",
       " 147,\n",
       " 148,\n",
       " 149,\n",
       " 150,\n",
       " 151,\n",
       " 152,\n",
       " 153,\n",
       " 154,\n",
       " 155,\n",
       " 156,\n",
       " 157,\n",
       " 158,\n",
       " 159,\n",
       " 160,\n",
       " 161,\n",
       " 162,\n",
       " 163,\n",
       " 164,\n",
       " 165,\n",
       " 166,\n",
       " 167,\n",
       " 168,\n",
       " 169,\n",
       " 170,\n",
       " 171,\n",
       " 172,\n",
       " 173,\n",
       " 174,\n",
       " 175,\n",
       " 176,\n",
       " 177,\n",
       " 178,\n",
       " 179,\n",
       " 180,\n",
       " 181,\n",
       " 182,\n",
       " 183,\n",
       " 184,\n",
       " 185,\n",
       " 186,\n",
       " 187,\n",
       " 188,\n",
       " 189,\n",
       " 190,\n",
       " 191,\n",
       " 192,\n",
       " 193,\n",
       " 194,\n",
       " 195,\n",
       " 196,\n",
       " 197,\n",
       " 198,\n",
       " 199,\n",
       " 200,\n",
       " 201,\n",
       " 202,\n",
       " 203,\n",
       " 204,\n",
       " 205,\n",
       " 206,\n",
       " 207,\n",
       " 208,\n",
       " 209,\n",
       " 210,\n",
       " 211,\n",
       " 212,\n",
       " 213,\n",
       " 214,\n",
       " 215,\n",
       " 216,\n",
       " 217,\n",
       " 218,\n",
       " 219,\n",
       " 220,\n",
       " 221,\n",
       " 222,\n",
       " 223,\n",
       " 224,\n",
       " 225,\n",
       " 226,\n",
       " 227,\n",
       " 228,\n",
       " 229,\n",
       " 230,\n",
       " 231,\n",
       " 232,\n",
       " 233,\n",
       " 234,\n",
       " 235,\n",
       " 236,\n",
       " 237,\n",
       " 238,\n",
       " 239,\n",
       " 240,\n",
       " 241,\n",
       " 242,\n",
       " 243,\n",
       " 244,\n",
       " 245,\n",
       " 246,\n",
       " 247,\n",
       " 248,\n",
       " 249,\n",
       " 250,\n",
       " 251,\n",
       " 252,\n",
       " 253,\n",
       " 254,\n",
       " 255,\n",
       " 256,\n",
       " 257,\n",
       " 258,\n",
       " 259,\n",
       " 260,\n",
       " 261,\n",
       " 262,\n",
       " 263,\n",
       " 264,\n",
       " 265,\n",
       " 266,\n",
       " 267,\n",
       " 268,\n",
       " 269,\n",
       " 270,\n",
       " 271,\n",
       " 272,\n",
       " 273,\n",
       " 274,\n",
       " 275,\n",
       " 276,\n",
       " 277,\n",
       " 278,\n",
       " 279,\n",
       " 280,\n",
       " 281,\n",
       " 282,\n",
       " 283,\n",
       " 284,\n",
       " 285,\n",
       " 286,\n",
       " 287,\n",
       " 288,\n",
       " 289,\n",
       " 290,\n",
       " 291,\n",
       " 292,\n",
       " 293,\n",
       " 294,\n",
       " 295,\n",
       " 296,\n",
       " 297,\n",
       " 298,\n",
       " 299,\n",
       " 300,\n",
       " 301,\n",
       " 302,\n",
       " 303,\n",
       " 304,\n",
       " 305,\n",
       " 306,\n",
       " 307,\n",
       " 308,\n",
       " 309,\n",
       " 310,\n",
       " 311,\n",
       " 312,\n",
       " 313,\n",
       " 314,\n",
       " 315,\n",
       " 316,\n",
       " 317,\n",
       " 318,\n",
       " 319,\n",
       " 320,\n",
       " 321,\n",
       " 322,\n",
       " 323,\n",
       " 324,\n",
       " 325,\n",
       " 326,\n",
       " 327,\n",
       " 328,\n",
       " 329,\n",
       " 330,\n",
       " 331,\n",
       " 332,\n",
       " 333,\n",
       " 334,\n",
       " 335,\n",
       " 336,\n",
       " 337,\n",
       " 338,\n",
       " 339,\n",
       " 340,\n",
       " 341,\n",
       " 342,\n",
       " 343,\n",
       " 344,\n",
       " 345,\n",
       " 346,\n",
       " 347,\n",
       " 348,\n",
       " 349,\n",
       " 350,\n",
       " 351,\n",
       " 352,\n",
       " 353,\n",
       " 354,\n",
       " 355,\n",
       " 356,\n",
       " 357,\n",
       " 358,\n",
       " 359,\n",
       " 360,\n",
       " 361,\n",
       " 362,\n",
       " 363,\n",
       " 364,\n",
       " 365,\n",
       " 366,\n",
       " 367,\n",
       " 368,\n",
       " 369,\n",
       " 370,\n",
       " 371,\n",
       " 372,\n",
       " 373,\n",
       " 374,\n",
       " 375,\n",
       " 376,\n",
       " 377,\n",
       " 378,\n",
       " 379,\n",
       " 380,\n",
       " 381,\n",
       " 382,\n",
       " 383,\n",
       " 384,\n",
       " 385,\n",
       " 386,\n",
       " 387,\n",
       " 388,\n",
       " 389,\n",
       " 390,\n",
       " 391,\n",
       " 392,\n",
       " 393,\n",
       " 394,\n",
       " 395,\n",
       " 396,\n",
       " 397,\n",
       " 398,\n",
       " 399,\n",
       " 400,\n",
       " 401,\n",
       " 402,\n",
       " 403,\n",
       " 404,\n",
       " 405,\n",
       " 406,\n",
       " 407,\n",
       " 408,\n",
       " 409,\n",
       " 410,\n",
       " 411,\n",
       " 412,\n",
       " 413,\n",
       " 414,\n",
       " 415,\n",
       " 416,\n",
       " 417,\n",
       " 418,\n",
       " 419,\n",
       " 420,\n",
       " 421,\n",
       " 422,\n",
       " 423,\n",
       " 424,\n",
       " 425,\n",
       " 426,\n",
       " 427,\n",
       " 428,\n",
       " 429,\n",
       " 430,\n",
       " 431,\n",
       " 432,\n",
       " 433,\n",
       " 434,\n",
       " 435,\n",
       " 436,\n",
       " 437,\n",
       " 438,\n",
       " 439,\n",
       " 440,\n",
       " 441,\n",
       " 442,\n",
       " 443,\n",
       " 444,\n",
       " 445,\n",
       " 446,\n",
       " 447,\n",
       " 448,\n",
       " 449,\n",
       " 450,\n",
       " 451,\n",
       " 452,\n",
       " 453,\n",
       " 454,\n",
       " 455,\n",
       " 456,\n",
       " 457,\n",
       " 458,\n",
       " 459,\n",
       " 460,\n",
       " 461,\n",
       " 462,\n",
       " 463,\n",
       " 464,\n",
       " 465,\n",
       " 466,\n",
       " 467,\n",
       " 468,\n",
       " 469,\n",
       " 470,\n",
       " 471,\n",
       " 472,\n",
       " 473,\n",
       " 474,\n",
       " 475,\n",
       " 476,\n",
       " 477,\n",
       " 478,\n",
       " 479,\n",
       " 480,\n",
       " 481,\n",
       " 482,\n",
       " 483,\n",
       " 484,\n",
       " 485,\n",
       " 486,\n",
       " 487,\n",
       " 488,\n",
       " 489,\n",
       " 490,\n",
       " 491,\n",
       " 492,\n",
       " 493,\n",
       " 494,\n",
       " 495,\n",
       " 496,\n",
       " 497,\n",
       " 498,\n",
       " 499,\n",
       " 500,\n",
       " 501,\n",
       " 502,\n",
       " 503,\n",
       " 504,\n",
       " 505,\n",
       " 506,\n",
       " 507,\n",
       " 508,\n",
       " 509,\n",
       " 510,\n",
       " 511,\n",
       " 512,\n",
       " 513,\n",
       " 514,\n",
       " 515,\n",
       " 516,\n",
       " 517,\n",
       " 518,\n",
       " 519,\n",
       " 520,\n",
       " 521,\n",
       " 522,\n",
       " 523,\n",
       " 524,\n",
       " 525,\n",
       " 526,\n",
       " 527,\n",
       " 528,\n",
       " 529,\n",
       " 530,\n",
       " 531,\n",
       " 532,\n",
       " 533,\n",
       " 534,\n",
       " 535,\n",
       " 536,\n",
       " 537,\n",
       " 538,\n",
       " 539,\n",
       " 540,\n",
       " 541,\n",
       " 542,\n",
       " 543,\n",
       " 544,\n",
       " 545,\n",
       " 546,\n",
       " 547,\n",
       " 548,\n",
       " 549,\n",
       " 550,\n",
       " 551,\n",
       " 552,\n",
       " 553,\n",
       " 554,\n",
       " 555,\n",
       " 556,\n",
       " 557,\n",
       " 558,\n",
       " 559,\n",
       " 560,\n",
       " 561,\n",
       " 562,\n",
       " 563,\n",
       " 564,\n",
       " 565,\n",
       " 566,\n",
       " 567,\n",
       " 568,\n",
       " 569,\n",
       " 570,\n",
       " 571,\n",
       " 572,\n",
       " 573,\n",
       " 574,\n",
       " 575,\n",
       " 576,\n",
       " 577,\n",
       " 578,\n",
       " 579,\n",
       " 580,\n",
       " 581,\n",
       " 582,\n",
       " 583,\n",
       " 584,\n",
       " 585,\n",
       " 586,\n",
       " 587,\n",
       " 588,\n",
       " 589,\n",
       " 590,\n",
       " 591,\n",
       " 592,\n",
       " 593,\n",
       " 594,\n",
       " 595,\n",
       " 596,\n",
       " 597,\n",
       " 598,\n",
       " 599,\n",
       " 600,\n",
       " 601,\n",
       " 602,\n",
       " 603,\n",
       " 604,\n",
       " 605,\n",
       " 606,\n",
       " 607,\n",
       " 608,\n",
       " 609,\n",
       " 610,\n",
       " 611,\n",
       " 612,\n",
       " 613,\n",
       " 614,\n",
       " 615,\n",
       " 616,\n",
       " 617,\n",
       " 618,\n",
       " 619,\n",
       " 620,\n",
       " 621,\n",
       " 622,\n",
       " 623,\n",
       " 624,\n",
       " 625,\n",
       " 626,\n",
       " 627,\n",
       " 628,\n",
       " 629,\n",
       " 630,\n",
       " 631,\n",
       " 632,\n",
       " 633,\n",
       " 634,\n",
       " 635,\n",
       " 636,\n",
       " 637,\n",
       " 638,\n",
       " 639,\n",
       " 640,\n",
       " 641,\n",
       " 642,\n",
       " 643,\n",
       " 644,\n",
       " 645,\n",
       " 646,\n",
       " 647,\n",
       " 648,\n",
       " 649,\n",
       " 650,\n",
       " 651,\n",
       " 652,\n",
       " 653,\n",
       " 654,\n",
       " 655,\n",
       " 656,\n",
       " 657,\n",
       " 658,\n",
       " 659,\n",
       " 660,\n",
       " 661,\n",
       " 662,\n",
       " 663,\n",
       " 664,\n",
       " 665,\n",
       " 666,\n",
       " 667,\n",
       " 668,\n",
       " 669,\n",
       " 670,\n",
       " 671,\n",
       " 672,\n",
       " 673,\n",
       " 674,\n",
       " 675,\n",
       " 676,\n",
       " 677,\n",
       " 678,\n",
       " 679,\n",
       " 680,\n",
       " 681,\n",
       " 682,\n",
       " 683,\n",
       " 684,\n",
       " 685,\n",
       " 686,\n",
       " 687,\n",
       " 688,\n",
       " 689,\n",
       " 690,\n",
       " 691,\n",
       " 692,\n",
       " 693,\n",
       " 694,\n",
       " 695,\n",
       " 696,\n",
       " 697,\n",
       " 698,\n",
       " 699,\n",
       " 700,\n",
       " 701,\n",
       " 702,\n",
       " 703,\n",
       " 704,\n",
       " 705,\n",
       " 706,\n",
       " 707,\n",
       " 708,\n",
       " 709,\n",
       " 710,\n",
       " 711,\n",
       " 712,\n",
       " 713,\n",
       " 714,\n",
       " 715,\n",
       " 716,\n",
       " 717,\n",
       " 718,\n",
       " 719,\n",
       " 720,\n",
       " 721,\n",
       " 722,\n",
       " 723,\n",
       " 724,\n",
       " 725,\n",
       " 726,\n",
       " 727,\n",
       " 728,\n",
       " 729,\n",
       " 730,\n",
       " 731,\n",
       " 732,\n",
       " 733,\n",
       " 734,\n",
       " 735,\n",
       " 736,\n",
       " 737,\n",
       " 738,\n",
       " 739,\n",
       " 740,\n",
       " 741,\n",
       " 742,\n",
       " 743,\n",
       " 744,\n",
       " 745,\n",
       " 746,\n",
       " 747,\n",
       " 748,\n",
       " 749,\n",
       " 750,\n",
       " 751,\n",
       " 752,\n",
       " 753,\n",
       " 754,\n",
       " 755,\n",
       " 756,\n",
       " 757,\n",
       " 758,\n",
       " 759,\n",
       " 760,\n",
       " 761,\n",
       " 762,\n",
       " 763,\n",
       " 764,\n",
       " 765,\n",
       " 766,\n",
       " 767,\n",
       " 768,\n",
       " 769,\n",
       " 770,\n",
       " 771,\n",
       " 772,\n",
       " 773,\n",
       " 774,\n",
       " 775,\n",
       " 776,\n",
       " 777,\n",
       " 778,\n",
       " 779,\n",
       " 780,\n",
       " 781,\n",
       " 782,\n",
       " 783,\n",
       " 784,\n",
       " 785,\n",
       " 786,\n",
       " 787,\n",
       " 788,\n",
       " 789,\n",
       " 790,\n",
       " 791,\n",
       " 792,\n",
       " 793,\n",
       " 794,\n",
       " 795,\n",
       " 796,\n",
       " 797,\n",
       " 798,\n",
       " 799,\n",
       " 800,\n",
       " 801,\n",
       " 802,\n",
       " 803,\n",
       " 804,\n",
       " 805,\n",
       " 806,\n",
       " 807,\n",
       " 808,\n",
       " 809,\n",
       " 810,\n",
       " 811,\n",
       " 812,\n",
       " 813,\n",
       " 814,\n",
       " 815,\n",
       " 816,\n",
       " 817,\n",
       " 818,\n",
       " 819,\n",
       " 820,\n",
       " 821,\n",
       " 822,\n",
       " 823,\n",
       " 824,\n",
       " 825,\n",
       " 826,\n",
       " 827,\n",
       " 828,\n",
       " 829,\n",
       " 830,\n",
       " 831,\n",
       " 832,\n",
       " 833,\n",
       " 834,\n",
       " 835,\n",
       " 836,\n",
       " 837,\n",
       " 838,\n",
       " 839,\n",
       " 840,\n",
       " 841,\n",
       " 842,\n",
       " 843,\n",
       " 844,\n",
       " 845,\n",
       " 846,\n",
       " 847,\n",
       " 848,\n",
       " 849,\n",
       " 850,\n",
       " 851,\n",
       " 852,\n",
       " 853,\n",
       " 854,\n",
       " 855,\n",
       " 856,\n",
       " 857,\n",
       " 858,\n",
       " 859,\n",
       " 860,\n",
       " 861,\n",
       " 862,\n",
       " 863,\n",
       " 864,\n",
       " 865,\n",
       " 866,\n",
       " 867,\n",
       " 868,\n",
       " 869,\n",
       " 870,\n",
       " 871,\n",
       " 872,\n",
       " 873,\n",
       " 874,\n",
       " 875,\n",
       " 876,\n",
       " 877,\n",
       " 878,\n",
       " 879,\n",
       " 880,\n",
       " 881,\n",
       " 882,\n",
       " 883,\n",
       " 884,\n",
       " 885,\n",
       " 886,\n",
       " 887,\n",
       " 888,\n",
       " 889,\n",
       " 890,\n",
       " 891,\n",
       " 892,\n",
       " 893,\n",
       " 894,\n",
       " 895,\n",
       " 896,\n",
       " 897,\n",
       " 898,\n",
       " 899,\n",
       " 900,\n",
       " 901,\n",
       " 902,\n",
       " 903,\n",
       " 904,\n",
       " 905,\n",
       " 906,\n",
       " 907,\n",
       " 908,\n",
       " 909,\n",
       " 910,\n",
       " 911,\n",
       " 912,\n",
       " 913,\n",
       " 914,\n",
       " 915,\n",
       " 916,\n",
       " 917,\n",
       " 918,\n",
       " 919,\n",
       " 920,\n",
       " 921,\n",
       " 922,\n",
       " 923,\n",
       " 924,\n",
       " 925,\n",
       " 926,\n",
       " 927,\n",
       " 928,\n",
       " 929,\n",
       " 930,\n",
       " 931,\n",
       " 932,\n",
       " 933,\n",
       " 934,\n",
       " 935,\n",
       " 936,\n",
       " 937,\n",
       " 938,\n",
       " 939,\n",
       " 940,\n",
       " 941,\n",
       " 942,\n",
       " 943,\n",
       " 944,\n",
       " 945,\n",
       " 946,\n",
       " 947,\n",
       " 948,\n",
       " 949,\n",
       " 950,\n",
       " 951,\n",
       " 952,\n",
       " 953,\n",
       " 954,\n",
       " 955,\n",
       " 956,\n",
       " 957,\n",
       " 958,\n",
       " 959,\n",
       " 960,\n",
       " 961,\n",
       " 962,\n",
       " 963,\n",
       " 964,\n",
       " 965,\n",
       " 966,\n",
       " 967,\n",
       " 968,\n",
       " 969,\n",
       " 970,\n",
       " 971,\n",
       " 972,\n",
       " 973,\n",
       " 974,\n",
       " 975,\n",
       " 976,\n",
       " 977,\n",
       " 978,\n",
       " 979,\n",
       " 980,\n",
       " 981,\n",
       " 982,\n",
       " 983,\n",
       " 984,\n",
       " 985,\n",
       " 986,\n",
       " 987,\n",
       " 988,\n",
       " 989,\n",
       " 990,\n",
       " 991,\n",
       " 992,\n",
       " 993,\n",
       " 994,\n",
       " 995,\n",
       " 996,\n",
       " 997,\n",
       " 998,\n",
       " 999,\n",
       " ...]"
      ]
     },
     "execution_count": 4,
     "metadata": {},
     "output_type": "execute_result"
    }
   ],
   "source": [
    "from memory_profiler import profile\n",
    "@profile\n",
    "def test():\n",
    "    a = [i for i in range(1000000)]\n",
    "    return a\n",
    "test()"
   ]
  },
  {
   "cell_type": "code",
   "execution_count": null,
   "id": "1d7550ff-86c8-4151-a0ff-ad1076406640",
   "metadata": {},
   "outputs": [],
   "source": [
    "#17. Write a Python program to create and write a list of numbers to a file, one number per line."
   ]
  },
  {
   "cell_type": "code",
   "execution_count": 112,
   "id": "6cca2ce9-93ab-4b91-9e12-01b674cf0396",
   "metadata": {},
   "outputs": [],
   "source": [
    "numbers = [1, 2, 3, 4, 5]\n",
    "with open(\"numbers.txt\", \"w\") as file:\n",
    "    for num in numbers:\n",
    "        file.write(str(num) + \"\\n\")"
   ]
  },
  {
   "cell_type": "code",
   "execution_count": null,
   "id": "bd03c245-5446-47cb-889c-ff162f4054be",
   "metadata": {},
   "outputs": [],
   "source": [
    "#18. How would you implement a basic logging setup that logs to a file with rotation after 1MB?"
   ]
  },
  {
   "cell_type": "code",
   "execution_count": 113,
   "id": "afb95126-6fa2-4a18-ac89-600883c584c7",
   "metadata": {},
   "outputs": [
    {
     "ename": "_IncompleteInputError",
     "evalue": "incomplete input (985438688.py, line 8)",
     "output_type": "error",
     "traceback": [
      "  \u001b[36mCell\u001b[39m\u001b[36m \u001b[39m\u001b[32mIn[113]\u001b[39m\u001b[32m, line 8\u001b[39m\n\u001b[31m    \u001b[39m\u001b[31mlogging.basicConfig(level=logging.INFO, handlers=[handler]\u001b[39m\n                                                              ^\n\u001b[31m_IncompleteInputError\u001b[39m\u001b[31m:\u001b[39m incomplete input\n"
     ]
    }
   ],
   "source": [
    "import logging\n",
    "from logging.handlers import RotatingFileHandler\n",
    "\n",
    "log_file = 'app.log'\n",
    "max_bytes = 1 * 1024 * 1024  # 1 MB\n",
    "backup_count = 5\n",
    "\n",
    "logging.basicConfig(level=logging.INFO, handlers=[handler]"
   ]
  },
  {
   "cell_type": "code",
   "execution_count": 8,
   "id": "19459495-b735-4db7-b94e-d4827c10ab3d",
   "metadata": {},
   "outputs": [],
   "source": [
    "#19. write a program that handles both IndexError and keyError using a try-except block\n",
    "def handle_error():\n",
    "    my_list = [10,20,30]\n",
    "    my_dict = {\"name\":\"Diksha\",\"age\":21}\n",
    "    try:\n",
    "        print(my_list[5])\n",
    "        print(my_dict[\"Qulification\"])\n",
    "    except IndexError:\n",
    "        print(\"IndexError: you tried to access an invalid index in the list\")\n",
    "    except  KeyError:\n",
    "        print(\"KeyError: you tried to access a key that does not exist in the dictionary\")"
   ]
  },
  {
   "cell_type": "code",
   "execution_count": 9,
   "id": "145a1733-09dc-4734-944b-5c3518315c65",
   "metadata": {},
   "outputs": [
    {
     "name": "stdout",
     "output_type": "stream",
     "text": [
      "IndexError: you tried to access an invalid index in the list\n"
     ]
    }
   ],
   "source": [
    "handle_error()"
   ]
  },
  {
   "cell_type": "code",
   "execution_count": 11,
   "id": "d686337c-e2ff-480d-93b7-65e424d352ad",
   "metadata": {},
   "outputs": [
    {
     "name": "stdout",
     "output_type": "stream",
     "text": [
      "This is my first line\n",
      "My name is diksha kumbhar\n",
      "am from kolhapur\n",
      "am 21 year old\n",
      "\n"
     ]
    }
   ],
   "source": [
    "#20. How would you open a file and read its contents using a context manager in Python?\n",
    "filename = \"files.txt\"\n",
    "try:\n",
    "    with open(filename, \"r\") as file:\n",
    "        content = file.read()\n",
    "        print(content)\n",
    "except FileNotFoundError as e:\n",
    "    print(f\"The file {filename} does not exist\")"
   ]
  },
  {
   "cell_type": "code",
   "execution_count": 12,
   "id": "7557c602-999a-42df-a01b-0c6ba13cb267",
   "metadata": {},
   "outputs": [
    {
     "name": "stdin",
     "output_type": "stream",
     "text": [
      "Enter the file name: 5\n",
      "Enter the word to search:  1\n"
     ]
    },
    {
     "name": "stdout",
     "output_type": "stream",
     "text": [
      "[Errno 2] No such file or directory: '5'\n"
     ]
    }
   ],
   "source": [
    "#21. Write a Python program that reads a file and prints the number of occurrences of a specific word.\n",
    "file_name = input(\"Enter the file name:\")\n",
    "search_word = input(\"Enter the word to search: \")\n",
    "try:\n",
    "    with open(file_name, \"r\") as file:\n",
    "        content = file.read()\n",
    "        word_count = content.lower().split().count(search_word.lower())\n",
    "        print(f\"the word {search_word} appears {word_count} times\")\n",
    "except FileNotFoundError as e:\n",
    "    print(e)"
   ]
  },
  {
   "cell_type": "code",
   "execution_count": 15,
   "id": "36b22725-2cee-4ef6-bb5e-cc97274f4727",
   "metadata": {},
   "outputs": [
    {
     "name": "stdout",
     "output_type": "stream",
     "text": [
      "The file 'files.txt' is not empty. Reading contents...\n"
     ]
    }
   ],
   "source": [
    "#22. How can you check if a file is empty before attempting to read its contents?\n",
    "import os\n",
    "\n",
    "file_path = \"files.txt\"\n",
    "\n",
    "if os.path.exists(file_path):\n",
    "    if os.path.getsize(file_path) == 0:\n",
    "        print(f\"The file '{file_path}' is empty.\")\n",
    "    else:\n",
    "        print(f\"The file '{file_path}' is not empty. Reading contents...\")\n",
    "        # Proceed with reading the file\n",
    "else:\n",
    "    print(f\"The file '{file_path}' does not exist.\")"
   ]
  },
  {
   "cell_type": "code",
   "execution_count": 17,
   "id": "80cbcd93-1d86-4806-b497-a7ccd39a2a71",
   "metadata": {},
   "outputs": [],
   "source": [
    "#23. Write a Python program that writes to a log file when an error occurs during file handling.\n",
    "import logging\n",
    "\n",
    "logging.basicConfig(filename='error.log', level=logging.ERROR,\n",
    "                    format='%(asctime)s - %(levelname)s - %(message)s')\n",
    "\n",
    "try:\n",
    "    with open('non_existent_file.txt', 'r') as f:\n",
    "        content = f.read()\n",
    "except FileNotFoundError as e:\n",
    "    logging.error(f\"Error accessing file: {e}\")"
   ]
  },
  {
   "cell_type": "code",
   "execution_count": null,
   "id": "0239ceb7-ae8d-43b9-abcc-728637e30ac8",
   "metadata": {},
   "outputs": [],
   "source": []
  },
  {
   "cell_type": "code",
   "execution_count": null,
   "id": "d68397d8-a8db-4bec-8f2e-c42d131ce6a9",
   "metadata": {},
   "outputs": [],
   "source": []
  },
  {
   "cell_type": "code",
   "execution_count": null,
   "id": "4e8985c2-db4c-478d-b3a2-676ea95f9a06",
   "metadata": {},
   "outputs": [],
   "source": []
  }
 ],
 "metadata": {
  "kernelspec": {
   "display_name": "Python 3 (ipykernel)",
   "language": "python",
   "name": "python3"
  },
  "language_info": {
   "codemirror_mode": {
    "name": "ipython",
    "version": 3
   },
   "file_extension": ".py",
   "mimetype": "text/x-python",
   "name": "python",
   "nbconvert_exporter": "python",
   "pygments_lexer": "ipython3",
   "version": "3.13.5"
  }
 },
 "nbformat": 4,
 "nbformat_minor": 5
}
